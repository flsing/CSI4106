{
 "cells": [
  {
   "cell_type": "markdown",
   "metadata": {},
   "source": [
    "# Propositional Logic"
   ]
  },
  {
   "cell_type": "markdown",
   "metadata": {},
   "source": [
    "##### This is a first notebook, to better understand propositional logic."
   ]
  },
  {
   "cell_type": "markdown",
   "metadata": {},
   "source": [
    "Just follow along with the instructions and the code. When you see **(TO DO)**, it means there is something to do...  \n",
    "As soon as you are done, please submit your notebook."
   ]
  },
  {
   "cell_type": "markdown",
   "metadata": {},
   "source": [
    "##### 1. Let's define a few propositions using basic connectives and evaluate their truth values."
   ]
  },
  {
   "cell_type": "code",
   "execution_count": 2,
   "metadata": {},
   "outputs": [],
   "source": [
    "# We define 2 propositions\n",
    "P = True\n",
    "Q = False"
   ]
  },
  {
   "cell_type": "code",
   "execution_count": 3,
   "metadata": {},
   "outputs": [
    {
     "name": "stdout",
     "output_type": "stream",
     "text": [
      "Negation : False\n",
      "Conjunction:  : False\n",
      "Disjunction:  : True\n"
     ]
    }
   ],
   "source": [
    "# We print the value of simple connectives\n",
    "print('{} : {}'.format(\"Negation\", not(P)))\n",
    "print('{} : {}'.format(\"Conjunction: \", (P and Q)))\n",
    "print('{} : {}'.format(\"Disjunction: \", (P or Q)))"
   ]
  },
  {
   "cell_type": "code",
   "execution_count": 12,
   "metadata": {},
   "outputs": [
    {
     "name": "stdout",
     "output_type": "stream",
     "text": [
      "(P and Q) or (R and S) : False\n"
     ]
    }
   ],
   "source": [
    "# We print the value of more complex propositions\n",
    "P = True\n",
    "Q = False\n",
    "R = True\n",
    "S = False\n",
    "\n",
    "print('{} : {}'.format(\"(P and Q) or (R and S)\", (P and Q) or (R and S)))"
   ]
  },
  {
   "cell_type": "markdown",
   "metadata": {},
   "source": [
    "Python has a nice \"eval\" function that we can use to apply directly on Strings."
   ]
  },
  {
   "cell_type": "code",
   "execution_count": 5,
   "metadata": {},
   "outputs": [
    {
     "name": "stdout",
     "output_type": "stream",
     "text": [
      "(P or Q) and (R and not(S)) : True\n"
     ]
    }
   ],
   "source": [
    "str_proposition = '(P or Q) and (R and not(S))'\n",
    "print('{} : {}'.format(str_proposition, eval(str_proposition)))"
   ]
  },
  {
   "cell_type": "markdown",
   "metadata": {},
   "source": [
    "**(TO DO)** Print a few more propositions, combining basic connectives."
   ]
  },
  {
   "cell_type": "code",
   "execution_count": 16,
   "metadata": {},
   "outputs": [
    {
     "name": "stdout",
     "output_type": "stream",
     "text": [
      "(P and Q) and (R and not(S)) : False\n",
      "(P and Q) and (R and S) : False\n",
      "(P or Q or R) and (R or P) : True\n"
     ]
    }
   ],
   "source": [
    "# Try ...\n",
    "str_proposition = '(P and Q) and (R and not(S))'\n",
    "print('{} : {}'.format(str_proposition, eval(str_proposition)))\n",
    "str_proposition2 = '(P and Q) and (R and S)'\n",
    "print('{} : {}'.format(str_proposition2, eval(str_proposition2)))\n",
    "str_proposition3 = '(P or Q or R) and (R or P)'\n",
    "print('{} : {}'.format(str_proposition3, eval(str_proposition3)))\n",
    "# Try ..."
   ]
  },
  {
   "cell_type": "markdown",
   "metadata": {},
   "source": [
    "##### 2. The implication, bi-conditional, and xor connectives are not \"native\" in the language, but we can define them in different ways.  Below is a way of defining our own \"infix\" operators that we will be able to use in propositions.  Do not worry about understanding the Infix class.  We will just use it."
   ]
  },
  {
   "cell_type": "code",
   "execution_count": 17,
   "metadata": {},
   "outputs": [],
   "source": [
    "# WHENEVER you use code that you found on the web, you MUST give your source.\n",
    "# from http://code.activestate.com/recipes/384122-infix-operators/\n",
    "\n",
    "# definition of an Infix operator class\n",
    "# this recipe also works in jython\n",
    "# calling sequence for the infix is either:\n",
    "#  x |op| y\n",
    "# or:\n",
    "# x <<op>> y\n",
    "\n",
    "class Infix:\n",
    "    def __init__(self, function):\n",
    "        self.function = function\n",
    "    def __ror__(self, other):\n",
    "        return Infix(lambda x, self=self, other=other: self.function(other, x))\n",
    "    def __or__(self, other):\n",
    "        return self.function(other)\n",
    "    def __rlshift__(self, other):\n",
    "        return Infix(lambda x, self=self, other=other: self.function(other, x))\n",
    "    def __rshift__(self, other):\n",
    "        return self.function(other)\n",
    "    def __call__(self, value1, value2):\n",
    "        return self.function(value1, value2)"
   ]
  },
  {
   "cell_type": "markdown",
   "metadata": {},
   "source": [
    "Using the Infix class, let's define our implication connective."
   ]
  },
  {
   "cell_type": "code",
   "execution_count": 18,
   "metadata": {},
   "outputs": [],
   "source": [
    "# Defining implication\n",
    "imply =  Infix(lambda x,y: not(x) or y)"
   ]
  },
  {
   "cell_type": "code",
   "execution_count": 19,
   "metadata": {},
   "outputs": [
    {
     "name": "stdout",
     "output_type": "stream",
     "text": [
      "False\n"
     ]
    }
   ],
   "source": [
    "# Testing implication\n",
    "P = True\n",
    "Q = False\n",
    "print(P |imply| Q)"
   ]
  },
  {
   "cell_type": "markdown",
   "metadata": {},
   "source": [
    "**(TO DO)** Define the other two connectives: bi-conditional and xor"
   ]
  },
  {
   "cell_type": "code",
   "execution_count": 29,
   "metadata": {},
   "outputs": [],
   "source": [
    "# Biconditional\n",
    "bicond = Infix(lambda x,y: (x and y) or (not(x) and not(y)) )\n",
    "# XOR\n",
    "xor = Infix(lambda x,y: (x or y) and not(x and y) )"
   ]
  },
  {
   "cell_type": "code",
   "execution_count": 30,
   "metadata": {},
   "outputs": [
    {
     "name": "stdout",
     "output_type": "stream",
     "text": [
      "True\n",
      "False\n",
      "False\n",
      "True\n"
     ]
    }
   ],
   "source": [
    "# Test your connectives\n",
    "print(eval('P |xor| Q'))\n",
    "print(eval('not(P) |xor| Q'))\n",
    "print(eval('P |bicond| Q'))\n",
    "print(eval('not(P) |bicond| Q'))"
   ]
  },
  {
   "cell_type": "markdown",
   "metadata": {},
   "source": [
    "**(optional)**  I heard that there is a \"hidden\" undocumented logical operator in python, can you find it??"
   ]
  },
  {
   "cell_type": "markdown",
   "metadata": {},
   "source": [
    "##### 3. Let's now look at truth tables.  This will lead us to perform proofs by extension.  To help us generate full extension of multiple propositions, we will use functions defined in itertools."
   ]
  },
  {
   "cell_type": "markdown",
   "metadata": {},
   "source": [
    "**(optional)**  Explore the itertools functions if desired, at https://docs.python.org/3/library/itertools.html"
   ]
  },
  {
   "cell_type": "code",
   "execution_count": 31,
   "metadata": {},
   "outputs": [
    {
     "name": "stdout",
     "output_type": "stream",
     "text": [
      "(1, 4, 6)\n",
      "(1, 4, 7)\n",
      "(1, 4, 8)\n",
      "(1, 4, 9)\n",
      "(1, 5, 6)\n",
      "(1, 5, 7)\n",
      "(1, 5, 8)\n",
      "(1, 5, 9)\n",
      "(2, 4, 6)\n",
      "(2, 4, 7)\n",
      "(2, 4, 8)\n",
      "(2, 4, 9)\n",
      "(2, 5, 6)\n",
      "(2, 5, 7)\n",
      "(2, 5, 8)\n",
      "(2, 5, 9)\n",
      "(3, 4, 6)\n",
      "(3, 4, 7)\n",
      "(3, 4, 8)\n",
      "(3, 4, 9)\n",
      "(3, 5, 6)\n",
      "(3, 5, 7)\n",
      "(3, 5, 8)\n",
      "(3, 5, 9)\n"
     ]
    }
   ],
   "source": [
    "import itertools\n",
    "\n",
    "# See how we can generate all possibilities of 3 values\n",
    "listOLists = [[1,2,3],[4,5],[6,7,8,9]]\n",
    "for list in itertools.product(*listOLists):\n",
    "    print(list)"
   ]
  },
  {
   "cell_type": "code",
   "execution_count": 32,
   "metadata": {},
   "outputs": [],
   "source": [
    "# define a method to generate N extensions\n",
    "def generateExtensions(N):\n",
    "    values = ['True', 'False']\n",
    "    listOfValues = []\n",
    "    for i in range(0, N): \n",
    "        listOfValues += [values]\n",
    "    return listOfValues"
   ]
  },
  {
   "cell_type": "code",
   "execution_count": 33,
   "metadata": {},
   "outputs": [
    {
     "name": "stdout",
     "output_type": "stream",
     "text": [
      "[['True', 'False'], ['True', 'False'], ['True', 'False']]\n"
     ]
    }
   ],
   "source": [
    "# Testing the generation\n",
    "print(generateExtensions(3))"
   ]
  },
  {
   "cell_type": "markdown",
   "metadata": {},
   "source": [
    "**(TO DO)** Uncomment the code below to see the extensions."
   ]
  },
  {
   "cell_type": "code",
   "execution_count": 34,
   "metadata": {},
   "outputs": [
    {
     "name": "stdout",
     "output_type": "stream",
     "text": [
      "Combinations of all possible extensions\n",
      "('True', 'True')\n",
      "('True', 'False')\n",
      "('False', 'True')\n",
      "('False', 'False')\n"
     ]
    }
   ],
   "source": [
    "# Look at an example of generation with 2 propositions.  You can\n",
    "# change to more symbols \n",
    "symbols = ['P', 'Q']\n",
    "listOfValues = generateExtensions(len(symbols))\n",
    "print(\"Combinations of all possible extensions\")\n",
    "for list in itertools.product(*listOfValues):\n",
    "   print(list)"
   ]
  },
  {
   "cell_type": "markdown",
   "metadata": {},
   "source": [
    "Let's see if we can do first show the truth tables of well-formed formulas."
   ]
  },
  {
   "cell_type": "code",
   "execution_count": 35,
   "metadata": {},
   "outputs": [],
   "source": [
    "# The method below receives a set of symbols as string and a proposition\n",
    "# e.g. symbols would be ['P', 'Q'] and proposition would use these symbol in a wff such as 'P and (Q or P)'\n",
    "# The wff can use the infix operators defined earlier 'P |xor| Q'\n",
    "def print_truth_table(symbols, proposition):\n",
    "    listOfValues = generateExtensions(len(symbols))\n",
    "    for list in itertools.product(*listOfValues):\n",
    "        print(list)\n",
    "        expressionTest = proposition\n",
    "        for i in range(0,len(symbols)):\n",
    "            expressionTest = expressionTest.replace(symbols[i], list[i])\n",
    "        print(eval(expressionTest))"
   ]
  },
  {
   "cell_type": "markdown",
   "metadata": {},
   "source": [
    "**(TO DO)** Add a few tests below showing other propositions."
   ]
  },
  {
   "cell_type": "code",
   "execution_count": 41,
   "metadata": {},
   "outputs": [
    {
     "name": "stdout",
     "output_type": "stream",
     "text": [
      "('True', 'True')\n",
      "True\n",
      "('True', 'False')\n",
      "True\n",
      "('False', 'True')\n",
      "True\n",
      "('False', 'False')\n",
      "False\n",
      "('True', 'True')\n",
      "True\n",
      "('True', 'False')\n",
      "False\n",
      "('False', 'True')\n",
      "False\n",
      "('False', 'False')\n",
      "False\n",
      "('True', 'True')\n",
      "True\n",
      "('True', 'False')\n",
      "False\n",
      "('False', 'True')\n",
      "True\n",
      "('False', 'False')\n",
      "True\n",
      "('True', 'True')\n",
      "False\n",
      "('True', 'False')\n",
      "True\n",
      "('False', 'True')\n",
      "True\n",
      "('False', 'False')\n",
      "False\n",
      "('True', 'True')\n",
      "False\n",
      "('True', 'False')\n",
      "False\n",
      "('False', 'True')\n",
      "True\n",
      "('False', 'False')\n",
      "False\n"
     ]
    }
   ],
   "source": [
    "# A first test\n",
    "print_truth_table(['P','Q'], 'P or Q')\n",
    "print_truth_table(['P','Q'], 'P and Q')\n",
    "print_truth_table(['P','Q'], 'not(P) or Q')\n",
    "print_truth_table(['P','Q'], 'P |xor| Q')\n",
    "print_truth_table(['P','Q'], 'not(P) and Q')\n",
    "# More tests..."
   ]
  },
  {
   "cell_type": "markdown",
   "metadata": {},
   "source": [
    "##### 4. Tautologies, equivalences and logical laws."
   ]
  },
  {
   "cell_type": "markdown",
   "metadata": {},
   "source": [
    "Let's define a function which will decide whether a proposition is a tautology or not."
   ]
  },
  {
   "cell_type": "markdown",
   "metadata": {},
   "source": [
    "**(TO DO)** Explain in the comment what a tautology is.  Add some print commands in the code if you want to better understand what it does."
   ]
  },
  {
   "cell_type": "markdown",
   "metadata": {},
   "source": [
    "A tautology is a proposition that is always true. For example not(p) or p will always be True. "
   ]
  },
  {
   "cell_type": "code",
   "execution_count": 48,
   "metadata": {},
   "outputs": [],
   "source": [
    "# Test for a tautology\n",
    "def is_tautology(symbols, proposition):\n",
    "    allTrue = True\n",
    "    listOfValues = generateExtensions(len(symbols))\n",
    "    for list in itertools.product(*listOfValues):\n",
    "        expressionTest = proposition\n",
    "        for i in range(0,len(symbols)):\n",
    "            expressionTest = expressionTest.replace(symbols[i], list[i])\n",
    "        if not(eval(expressionTest)):\n",
    "            allTrue = False\n",
    "    return allTrue"
   ]
  },
  {
   "cell_type": "markdown",
   "metadata": {},
   "source": [
    "**(TO DO)** Add a few tests below."
   ]
  },
  {
   "cell_type": "code",
   "execution_count": 52,
   "metadata": {},
   "outputs": [
    {
     "name": "stdout",
     "output_type": "stream",
     "text": [
      "True\n",
      "True\n",
      "True\n",
      "False\n"
     ]
    }
   ],
   "source": [
    "# A first test\n",
    "print(is_tautology(['P', 'Q'], '(P or Q or not(P) or not(Q))'))\n",
    "print(is_tautology(['P', 'Q'], '(not(P) or not(Q) or P or Q)'))\n",
    "print(is_tautology(['P', 'Q'], '((not(P) or not(Q)) or (P or Q))'))\n",
    "print(is_tautology(['P', 'Q'], '((P or Q) and (P or Q))'))\n",
    "# More tests..."
   ]
  },
  {
   "cell_type": "markdown",
   "metadata": {},
   "source": [
    "Let's define a method that will test the equivalence of two propositions.  This is a proof by extension."
   ]
  },
  {
   "cell_type": "code",
   "execution_count": 53,
   "metadata": {},
   "outputs": [],
   "source": [
    "# Test for equivalence\n",
    "\n",
    "# establish the equivalence of proposition1 and proposition2.  \n",
    "# The set of used symbols must be provided in the first parameter.\n",
    "def is_equivalent(symbols, prop1, prop2):\n",
    "    allSame = True\n",
    "    listOfValues = generateExtensions(len(symbols))\n",
    "    for list in itertools.product(*listOfValues):\n",
    "        p1_test = prop1\n",
    "        p2_test = prop2\n",
    "        for i in range(0,len(symbols)):\n",
    "            p1_test = p1_test.replace(symbols[i], list[i])\n",
    "            p2_test = p2_test.replace(symbols[i], list[i])\n",
    "        if not(eval(p1_test) == eval(p2_test)):\n",
    "            allSame = False\n",
    "    return allSame"
   ]
  },
  {
   "cell_type": "code",
   "execution_count": 46,
   "metadata": {},
   "outputs": [
    {
     "name": "stdout",
     "output_type": "stream",
     "text": [
      "False\n",
      "True\n",
      "True\n"
     ]
    }
   ],
   "source": [
    "# Testing a few propositions for equivalence\n",
    "print(is_equivalent(['P', 'Q', 'R'], '(P or Q or R)', '(P and (Q or R))'))\n",
    "print(is_equivalent(['P', 'Q'], '(P or Q)', '(P or Q)'))\n",
    "print(is_equivalent(['P', 'Q'], '(P |imply| Q)', '(not(P) or Q)'))"
   ]
  },
  {
   "cell_type": "markdown",
   "metadata": {},
   "source": [
    "**(TO DO)** Test logic laws: De Morgan's law, associativity, commutativity, distributivity, conditional, contrapositive"
   ]
  },
  {
   "cell_type": "code",
   "execution_count": 70,
   "metadata": {},
   "outputs": [
    {
     "name": "stdout",
     "output_type": "stream",
     "text": [
      "demorgan: True\n",
      "associative: True\n",
      "commutative: True\n",
      "distributive: True\n",
      "conditional: True\n",
      "contrapositive: True\n"
     ]
    }
   ],
   "source": [
    "# Equivalence tests\n",
    "demorgan = is_equivalent(['P', 'Q'], '(not(P and Q))', '(not(P) or not(Q))')\n",
    "print('demorgan:', demorgan)\n",
    "associative = is_equivalent(['P', 'Q', 'R'], '(P and (Q and R))', '((P and Q) and R)')\n",
    "print('associative:', associative)\n",
    "commutative = is_equivalent(['P', 'Q'], '(P or Q )', '(Q or P)')\n",
    "print ('commutative:', commutative)\n",
    "distributive = is_equivalent(['P', 'Q', 'R'], '(P and (Q or R))', '((P and Q) or (P and R))')\n",
    "print ('distributive:', distributive)\n",
    "conditional = is_equivalent(['P', 'Q'], '(P |imply| Q)', '(not(P) or Q )')\n",
    "print ('conditional:', conditional)\n",
    "contrapositive = is_equivalent(['P', 'Q'], '(P |imply| Q)', '((not(Q)) |imply| (not(P)))')\n",
    "print ('contrapositive:', contrapositive)\n"
   ]
  },
  {
   "cell_type": "markdown",
   "metadata": {},
   "source": [
    "##### Your first notebook is DONE!!!  You should know a lot about propositional logic now (and about python!)."
   ]
  },
  {
   "cell_type": "markdown",
   "metadata": {},
   "source": [
    "Yay!"
   ]
  }
 ],
 "metadata": {
  "kernelspec": {
   "display_name": "Python 3",
   "language": "python",
   "name": "python3"
  },
  "language_info": {
   "codemirror_mode": {
    "name": "ipython",
    "version": 3
   },
   "file_extension": ".py",
   "mimetype": "text/x-python",
   "name": "python",
   "nbconvert_exporter": "python",
   "pygments_lexer": "ipython3",
   "version": "3.6.4"
  }
 },
 "nbformat": 4,
 "nbformat_minor": 2
}
