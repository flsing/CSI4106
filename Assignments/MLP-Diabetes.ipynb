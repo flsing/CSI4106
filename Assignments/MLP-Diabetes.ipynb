{
 "cells": [
  {
   "cell_type": "markdown",
   "metadata": {},
   "source": [
    "# Neural networks\n",
    "### Multi-layer perceptron"
   ]
  },
  {
   "cell_type": "markdown",
   "metadata": {},
   "source": [
    "CSI4106 Artificial Intelligence  \n",
    "Fall 2018  \n",
    "Caroline Barrière\n",
    "\n",
    "***"
   ]
  },
  {
   "cell_type": "markdown",
   "metadata": {},
   "source": [
    "We are going into the medical domain for this notebook. The supervised classification task tackled in this notebook is about diabetes patient readmission in hospital, provided a certain set of features describing their physical state, as well as the procedure they went through during their stay, the medications they take, etc.\n",
    "\n",
    "Any *readmitted patient* is very costly for a medical system. It shows to some extent, that the patient was discharged before having fully recovered.  The dataset we explore splits readmission into 3 values: before 30 days, after 30 days, and none.  Understanding what conditions brings patients back to the hospital within 30 days is very important for a medical system, as these cases should be minimized.\n",
    "\n",
    "This notebook will allow you to pursue your understanding of experimental set-up for supervised machine learning, in particular supervised classification through the use of multi-layer perceptrons.\n",
    "\n",
    "We will make use of two packages: (1) **scikit-learn**, a great machine learning package, which you've experimented with in the last notebook, and (2) **pandas**, a must-have for data science.  Make sure you have the LATEST version of scikit-learn (version 0.20), otherwise some functions (the one-hot-encoder) will not work.\n",
    "\n",
    "As this is your 5th notebook this semester, some instructions will be a bit less explicit.\n",
    "\n",
    "***"
   ]
  },
  {
   "cell_type": "markdown",
   "metadata": {},
   "source": [
    "***HOMEWORK***:  \n",
    "Go through the notebook by running each cell, one at a time. Look for (**TO DO**) for the tasks that you need to perform.  \n",
    "Make sure you *sign* (type your name) the notebook at the end. Once you're done, submit your notebook.\n",
    "\n",
    "***"
   ]
  },
  {
   "cell_type": "markdown",
   "metadata": {},
   "source": [
    "**1. Obtaining the dataset**\n",
    "\n",
    "First, read the description of the dataset on Diabetes Readmission (https://www.kaggle.com/brandao/diabetes/home).  The content of this site is also copied in the file Diabetes-DatasetDescription.ipynb, so you can have it locally.  \n",
    "\n",
    "Download the dataset (file dataset_diabetes.zip) from the UCI archive:\n",
    "https://archive.ics.uci.edu/ml/datasets/Diabetes+130-US+hospitals+for+years+1999-2008\n",
    "\n",
    "Unzip the file *dataset_diabetes.zip* and there should be a file called *diabetic_data.csv* which we will use for our experiments.\n"
   ]
  },
  {
   "cell_type": "markdown",
   "metadata": {},
   "source": [
    "**2. Exploring the dataset**  \n",
    "We will use the package *pandas* to read the csv file.  It will create a data structure called a dataframe, which will contain all the data. \n",
    "\n",
    "If you get some errors when you import the packages, it's because they are not installed... make sure you do *pip install package_name* at the command prompt to have access to these packages."
   ]
  },
  {
   "cell_type": "code",
   "execution_count": 1,
   "metadata": {},
   "outputs": [],
   "source": [
    "# import the required packages for data analysis and machine learning\n",
    "\n",
    "import pandas as pd\n",
    "import sklearn"
   ]
  },
  {
   "cell_type": "markdown",
   "metadata": {},
   "source": [
    "The following code reads the csv file (which I've put under a repertory called *Diabetes*, but you should adjust the path to where you've put it).  And then, it shows the top rows."
   ]
  },
  {
   "cell_type": "code",
   "execution_count": 2,
   "metadata": {},
   "outputs": [
    {
     "data": {
      "text/html": [
       "<div>\n",
       "<style scoped>\n",
       "    .dataframe tbody tr th:only-of-type {\n",
       "        vertical-align: middle;\n",
       "    }\n",
       "\n",
       "    .dataframe tbody tr th {\n",
       "        vertical-align: top;\n",
       "    }\n",
       "\n",
       "    .dataframe thead th {\n",
       "        text-align: right;\n",
       "    }\n",
       "</style>\n",
       "<table border=\"1\" class=\"dataframe\">\n",
       "  <thead>\n",
       "    <tr style=\"text-align: right;\">\n",
       "      <th></th>\n",
       "      <th>encounter_id</th>\n",
       "      <th>patient_nbr</th>\n",
       "      <th>race</th>\n",
       "      <th>gender</th>\n",
       "      <th>age</th>\n",
       "      <th>weight</th>\n",
       "      <th>admission_type_id</th>\n",
       "      <th>discharge_disposition_id</th>\n",
       "      <th>admission_source_id</th>\n",
       "      <th>time_in_hospital</th>\n",
       "      <th>...</th>\n",
       "      <th>citoglipton</th>\n",
       "      <th>insulin</th>\n",
       "      <th>glyburide-metformin</th>\n",
       "      <th>glipizide-metformin</th>\n",
       "      <th>glimepiride-pioglitazone</th>\n",
       "      <th>metformin-rosiglitazone</th>\n",
       "      <th>metformin-pioglitazone</th>\n",
       "      <th>change</th>\n",
       "      <th>diabetesMed</th>\n",
       "      <th>readmitted</th>\n",
       "    </tr>\n",
       "  </thead>\n",
       "  <tbody>\n",
       "    <tr>\n",
       "      <th>0</th>\n",
       "      <td>2278392</td>\n",
       "      <td>8222157</td>\n",
       "      <td>Caucasian</td>\n",
       "      <td>Female</td>\n",
       "      <td>[0-10)</td>\n",
       "      <td>?</td>\n",
       "      <td>6</td>\n",
       "      <td>25</td>\n",
       "      <td>1</td>\n",
       "      <td>1</td>\n",
       "      <td>...</td>\n",
       "      <td>No</td>\n",
       "      <td>No</td>\n",
       "      <td>No</td>\n",
       "      <td>No</td>\n",
       "      <td>No</td>\n",
       "      <td>No</td>\n",
       "      <td>No</td>\n",
       "      <td>No</td>\n",
       "      <td>No</td>\n",
       "      <td>NO</td>\n",
       "    </tr>\n",
       "    <tr>\n",
       "      <th>1</th>\n",
       "      <td>149190</td>\n",
       "      <td>55629189</td>\n",
       "      <td>Caucasian</td>\n",
       "      <td>Female</td>\n",
       "      <td>[10-20)</td>\n",
       "      <td>?</td>\n",
       "      <td>1</td>\n",
       "      <td>1</td>\n",
       "      <td>7</td>\n",
       "      <td>3</td>\n",
       "      <td>...</td>\n",
       "      <td>No</td>\n",
       "      <td>Up</td>\n",
       "      <td>No</td>\n",
       "      <td>No</td>\n",
       "      <td>No</td>\n",
       "      <td>No</td>\n",
       "      <td>No</td>\n",
       "      <td>Ch</td>\n",
       "      <td>Yes</td>\n",
       "      <td>&gt;30</td>\n",
       "    </tr>\n",
       "    <tr>\n",
       "      <th>2</th>\n",
       "      <td>64410</td>\n",
       "      <td>86047875</td>\n",
       "      <td>AfricanAmerican</td>\n",
       "      <td>Female</td>\n",
       "      <td>[20-30)</td>\n",
       "      <td>?</td>\n",
       "      <td>1</td>\n",
       "      <td>1</td>\n",
       "      <td>7</td>\n",
       "      <td>2</td>\n",
       "      <td>...</td>\n",
       "      <td>No</td>\n",
       "      <td>No</td>\n",
       "      <td>No</td>\n",
       "      <td>No</td>\n",
       "      <td>No</td>\n",
       "      <td>No</td>\n",
       "      <td>No</td>\n",
       "      <td>No</td>\n",
       "      <td>Yes</td>\n",
       "      <td>NO</td>\n",
       "    </tr>\n",
       "    <tr>\n",
       "      <th>3</th>\n",
       "      <td>500364</td>\n",
       "      <td>82442376</td>\n",
       "      <td>Caucasian</td>\n",
       "      <td>Male</td>\n",
       "      <td>[30-40)</td>\n",
       "      <td>?</td>\n",
       "      <td>1</td>\n",
       "      <td>1</td>\n",
       "      <td>7</td>\n",
       "      <td>2</td>\n",
       "      <td>...</td>\n",
       "      <td>No</td>\n",
       "      <td>Up</td>\n",
       "      <td>No</td>\n",
       "      <td>No</td>\n",
       "      <td>No</td>\n",
       "      <td>No</td>\n",
       "      <td>No</td>\n",
       "      <td>Ch</td>\n",
       "      <td>Yes</td>\n",
       "      <td>NO</td>\n",
       "    </tr>\n",
       "    <tr>\n",
       "      <th>4</th>\n",
       "      <td>16680</td>\n",
       "      <td>42519267</td>\n",
       "      <td>Caucasian</td>\n",
       "      <td>Male</td>\n",
       "      <td>[40-50)</td>\n",
       "      <td>?</td>\n",
       "      <td>1</td>\n",
       "      <td>1</td>\n",
       "      <td>7</td>\n",
       "      <td>1</td>\n",
       "      <td>...</td>\n",
       "      <td>No</td>\n",
       "      <td>Steady</td>\n",
       "      <td>No</td>\n",
       "      <td>No</td>\n",
       "      <td>No</td>\n",
       "      <td>No</td>\n",
       "      <td>No</td>\n",
       "      <td>Ch</td>\n",
       "      <td>Yes</td>\n",
       "      <td>NO</td>\n",
       "    </tr>\n",
       "    <tr>\n",
       "      <th>5</th>\n",
       "      <td>35754</td>\n",
       "      <td>82637451</td>\n",
       "      <td>Caucasian</td>\n",
       "      <td>Male</td>\n",
       "      <td>[50-60)</td>\n",
       "      <td>?</td>\n",
       "      <td>2</td>\n",
       "      <td>1</td>\n",
       "      <td>2</td>\n",
       "      <td>3</td>\n",
       "      <td>...</td>\n",
       "      <td>No</td>\n",
       "      <td>Steady</td>\n",
       "      <td>No</td>\n",
       "      <td>No</td>\n",
       "      <td>No</td>\n",
       "      <td>No</td>\n",
       "      <td>No</td>\n",
       "      <td>No</td>\n",
       "      <td>Yes</td>\n",
       "      <td>&gt;30</td>\n",
       "    </tr>\n",
       "    <tr>\n",
       "      <th>6</th>\n",
       "      <td>55842</td>\n",
       "      <td>84259809</td>\n",
       "      <td>Caucasian</td>\n",
       "      <td>Male</td>\n",
       "      <td>[60-70)</td>\n",
       "      <td>?</td>\n",
       "      <td>3</td>\n",
       "      <td>1</td>\n",
       "      <td>2</td>\n",
       "      <td>4</td>\n",
       "      <td>...</td>\n",
       "      <td>No</td>\n",
       "      <td>Steady</td>\n",
       "      <td>No</td>\n",
       "      <td>No</td>\n",
       "      <td>No</td>\n",
       "      <td>No</td>\n",
       "      <td>No</td>\n",
       "      <td>Ch</td>\n",
       "      <td>Yes</td>\n",
       "      <td>NO</td>\n",
       "    </tr>\n",
       "    <tr>\n",
       "      <th>7</th>\n",
       "      <td>63768</td>\n",
       "      <td>114882984</td>\n",
       "      <td>Caucasian</td>\n",
       "      <td>Male</td>\n",
       "      <td>[70-80)</td>\n",
       "      <td>?</td>\n",
       "      <td>1</td>\n",
       "      <td>1</td>\n",
       "      <td>7</td>\n",
       "      <td>5</td>\n",
       "      <td>...</td>\n",
       "      <td>No</td>\n",
       "      <td>No</td>\n",
       "      <td>No</td>\n",
       "      <td>No</td>\n",
       "      <td>No</td>\n",
       "      <td>No</td>\n",
       "      <td>No</td>\n",
       "      <td>No</td>\n",
       "      <td>Yes</td>\n",
       "      <td>&gt;30</td>\n",
       "    </tr>\n",
       "    <tr>\n",
       "      <th>8</th>\n",
       "      <td>12522</td>\n",
       "      <td>48330783</td>\n",
       "      <td>Caucasian</td>\n",
       "      <td>Female</td>\n",
       "      <td>[80-90)</td>\n",
       "      <td>?</td>\n",
       "      <td>2</td>\n",
       "      <td>1</td>\n",
       "      <td>4</td>\n",
       "      <td>13</td>\n",
       "      <td>...</td>\n",
       "      <td>No</td>\n",
       "      <td>Steady</td>\n",
       "      <td>No</td>\n",
       "      <td>No</td>\n",
       "      <td>No</td>\n",
       "      <td>No</td>\n",
       "      <td>No</td>\n",
       "      <td>Ch</td>\n",
       "      <td>Yes</td>\n",
       "      <td>NO</td>\n",
       "    </tr>\n",
       "    <tr>\n",
       "      <th>9</th>\n",
       "      <td>15738</td>\n",
       "      <td>63555939</td>\n",
       "      <td>Caucasian</td>\n",
       "      <td>Female</td>\n",
       "      <td>[90-100)</td>\n",
       "      <td>?</td>\n",
       "      <td>3</td>\n",
       "      <td>3</td>\n",
       "      <td>4</td>\n",
       "      <td>12</td>\n",
       "      <td>...</td>\n",
       "      <td>No</td>\n",
       "      <td>Steady</td>\n",
       "      <td>No</td>\n",
       "      <td>No</td>\n",
       "      <td>No</td>\n",
       "      <td>No</td>\n",
       "      <td>No</td>\n",
       "      <td>Ch</td>\n",
       "      <td>Yes</td>\n",
       "      <td>NO</td>\n",
       "    </tr>\n",
       "    <tr>\n",
       "      <th>10</th>\n",
       "      <td>28236</td>\n",
       "      <td>89869032</td>\n",
       "      <td>AfricanAmerican</td>\n",
       "      <td>Female</td>\n",
       "      <td>[40-50)</td>\n",
       "      <td>?</td>\n",
       "      <td>1</td>\n",
       "      <td>1</td>\n",
       "      <td>7</td>\n",
       "      <td>9</td>\n",
       "      <td>...</td>\n",
       "      <td>No</td>\n",
       "      <td>Steady</td>\n",
       "      <td>No</td>\n",
       "      <td>No</td>\n",
       "      <td>No</td>\n",
       "      <td>No</td>\n",
       "      <td>No</td>\n",
       "      <td>No</td>\n",
       "      <td>Yes</td>\n",
       "      <td>&gt;30</td>\n",
       "    </tr>\n",
       "    <tr>\n",
       "      <th>11</th>\n",
       "      <td>36900</td>\n",
       "      <td>77391171</td>\n",
       "      <td>AfricanAmerican</td>\n",
       "      <td>Male</td>\n",
       "      <td>[60-70)</td>\n",
       "      <td>?</td>\n",
       "      <td>2</td>\n",
       "      <td>1</td>\n",
       "      <td>4</td>\n",
       "      <td>7</td>\n",
       "      <td>...</td>\n",
       "      <td>No</td>\n",
       "      <td>Steady</td>\n",
       "      <td>No</td>\n",
       "      <td>No</td>\n",
       "      <td>No</td>\n",
       "      <td>No</td>\n",
       "      <td>No</td>\n",
       "      <td>Ch</td>\n",
       "      <td>Yes</td>\n",
       "      <td>&lt;30</td>\n",
       "    </tr>\n",
       "    <tr>\n",
       "      <th>12</th>\n",
       "      <td>40926</td>\n",
       "      <td>85504905</td>\n",
       "      <td>Caucasian</td>\n",
       "      <td>Female</td>\n",
       "      <td>[40-50)</td>\n",
       "      <td>?</td>\n",
       "      <td>1</td>\n",
       "      <td>3</td>\n",
       "      <td>7</td>\n",
       "      <td>7</td>\n",
       "      <td>...</td>\n",
       "      <td>No</td>\n",
       "      <td>Down</td>\n",
       "      <td>No</td>\n",
       "      <td>No</td>\n",
       "      <td>No</td>\n",
       "      <td>No</td>\n",
       "      <td>No</td>\n",
       "      <td>Ch</td>\n",
       "      <td>Yes</td>\n",
       "      <td>&lt;30</td>\n",
       "    </tr>\n",
       "    <tr>\n",
       "      <th>13</th>\n",
       "      <td>42570</td>\n",
       "      <td>77586282</td>\n",
       "      <td>Caucasian</td>\n",
       "      <td>Male</td>\n",
       "      <td>[80-90)</td>\n",
       "      <td>?</td>\n",
       "      <td>1</td>\n",
       "      <td>6</td>\n",
       "      <td>7</td>\n",
       "      <td>10</td>\n",
       "      <td>...</td>\n",
       "      <td>No</td>\n",
       "      <td>Steady</td>\n",
       "      <td>No</td>\n",
       "      <td>No</td>\n",
       "      <td>No</td>\n",
       "      <td>No</td>\n",
       "      <td>No</td>\n",
       "      <td>No</td>\n",
       "      <td>Yes</td>\n",
       "      <td>NO</td>\n",
       "    </tr>\n",
       "    <tr>\n",
       "      <th>14</th>\n",
       "      <td>62256</td>\n",
       "      <td>49726791</td>\n",
       "      <td>AfricanAmerican</td>\n",
       "      <td>Female</td>\n",
       "      <td>[60-70)</td>\n",
       "      <td>?</td>\n",
       "      <td>3</td>\n",
       "      <td>1</td>\n",
       "      <td>2</td>\n",
       "      <td>1</td>\n",
       "      <td>...</td>\n",
       "      <td>No</td>\n",
       "      <td>Steady</td>\n",
       "      <td>No</td>\n",
       "      <td>No</td>\n",
       "      <td>No</td>\n",
       "      <td>No</td>\n",
       "      <td>No</td>\n",
       "      <td>No</td>\n",
       "      <td>Yes</td>\n",
       "      <td>&gt;30</td>\n",
       "    </tr>\n",
       "    <tr>\n",
       "      <th>15</th>\n",
       "      <td>73578</td>\n",
       "      <td>86328819</td>\n",
       "      <td>AfricanAmerican</td>\n",
       "      <td>Male</td>\n",
       "      <td>[60-70)</td>\n",
       "      <td>?</td>\n",
       "      <td>1</td>\n",
       "      <td>3</td>\n",
       "      <td>7</td>\n",
       "      <td>12</td>\n",
       "      <td>...</td>\n",
       "      <td>No</td>\n",
       "      <td>Up</td>\n",
       "      <td>No</td>\n",
       "      <td>No</td>\n",
       "      <td>No</td>\n",
       "      <td>No</td>\n",
       "      <td>No</td>\n",
       "      <td>Ch</td>\n",
       "      <td>Yes</td>\n",
       "      <td>NO</td>\n",
       "    </tr>\n",
       "    <tr>\n",
       "      <th>16</th>\n",
       "      <td>77076</td>\n",
       "      <td>92519352</td>\n",
       "      <td>AfricanAmerican</td>\n",
       "      <td>Male</td>\n",
       "      <td>[50-60)</td>\n",
       "      <td>?</td>\n",
       "      <td>1</td>\n",
       "      <td>1</td>\n",
       "      <td>7</td>\n",
       "      <td>4</td>\n",
       "      <td>...</td>\n",
       "      <td>No</td>\n",
       "      <td>Steady</td>\n",
       "      <td>No</td>\n",
       "      <td>No</td>\n",
       "      <td>No</td>\n",
       "      <td>No</td>\n",
       "      <td>No</td>\n",
       "      <td>Ch</td>\n",
       "      <td>Yes</td>\n",
       "      <td>&lt;30</td>\n",
       "    </tr>\n",
       "    <tr>\n",
       "      <th>17</th>\n",
       "      <td>84222</td>\n",
       "      <td>108662661</td>\n",
       "      <td>Caucasian</td>\n",
       "      <td>Female</td>\n",
       "      <td>[50-60)</td>\n",
       "      <td>?</td>\n",
       "      <td>1</td>\n",
       "      <td>1</td>\n",
       "      <td>7</td>\n",
       "      <td>3</td>\n",
       "      <td>...</td>\n",
       "      <td>No</td>\n",
       "      <td>No</td>\n",
       "      <td>No</td>\n",
       "      <td>No</td>\n",
       "      <td>No</td>\n",
       "      <td>No</td>\n",
       "      <td>No</td>\n",
       "      <td>No</td>\n",
       "      <td>Yes</td>\n",
       "      <td>NO</td>\n",
       "    </tr>\n",
       "    <tr>\n",
       "      <th>18</th>\n",
       "      <td>89682</td>\n",
       "      <td>107389323</td>\n",
       "      <td>AfricanAmerican</td>\n",
       "      <td>Male</td>\n",
       "      <td>[70-80)</td>\n",
       "      <td>?</td>\n",
       "      <td>1</td>\n",
       "      <td>1</td>\n",
       "      <td>7</td>\n",
       "      <td>5</td>\n",
       "      <td>...</td>\n",
       "      <td>No</td>\n",
       "      <td>Steady</td>\n",
       "      <td>No</td>\n",
       "      <td>No</td>\n",
       "      <td>No</td>\n",
       "      <td>No</td>\n",
       "      <td>No</td>\n",
       "      <td>No</td>\n",
       "      <td>Yes</td>\n",
       "      <td>&gt;30</td>\n",
       "    </tr>\n",
       "    <tr>\n",
       "      <th>19</th>\n",
       "      <td>148530</td>\n",
       "      <td>69422211</td>\n",
       "      <td>?</td>\n",
       "      <td>Male</td>\n",
       "      <td>[70-80)</td>\n",
       "      <td>?</td>\n",
       "      <td>3</td>\n",
       "      <td>6</td>\n",
       "      <td>2</td>\n",
       "      <td>6</td>\n",
       "      <td>...</td>\n",
       "      <td>No</td>\n",
       "      <td>Steady</td>\n",
       "      <td>No</td>\n",
       "      <td>No</td>\n",
       "      <td>No</td>\n",
       "      <td>No</td>\n",
       "      <td>No</td>\n",
       "      <td>Ch</td>\n",
       "      <td>Yes</td>\n",
       "      <td>NO</td>\n",
       "    </tr>\n",
       "  </tbody>\n",
       "</table>\n",
       "<p>20 rows × 50 columns</p>\n",
       "</div>"
      ],
      "text/plain": [
       "    encounter_id  patient_nbr             race  gender       age weight  \\\n",
       "0        2278392      8222157        Caucasian  Female    [0-10)      ?   \n",
       "1         149190     55629189        Caucasian  Female   [10-20)      ?   \n",
       "2          64410     86047875  AfricanAmerican  Female   [20-30)      ?   \n",
       "3         500364     82442376        Caucasian    Male   [30-40)      ?   \n",
       "4          16680     42519267        Caucasian    Male   [40-50)      ?   \n",
       "5          35754     82637451        Caucasian    Male   [50-60)      ?   \n",
       "6          55842     84259809        Caucasian    Male   [60-70)      ?   \n",
       "7          63768    114882984        Caucasian    Male   [70-80)      ?   \n",
       "8          12522     48330783        Caucasian  Female   [80-90)      ?   \n",
       "9          15738     63555939        Caucasian  Female  [90-100)      ?   \n",
       "10         28236     89869032  AfricanAmerican  Female   [40-50)      ?   \n",
       "11         36900     77391171  AfricanAmerican    Male   [60-70)      ?   \n",
       "12         40926     85504905        Caucasian  Female   [40-50)      ?   \n",
       "13         42570     77586282        Caucasian    Male   [80-90)      ?   \n",
       "14         62256     49726791  AfricanAmerican  Female   [60-70)      ?   \n",
       "15         73578     86328819  AfricanAmerican    Male   [60-70)      ?   \n",
       "16         77076     92519352  AfricanAmerican    Male   [50-60)      ?   \n",
       "17         84222    108662661        Caucasian  Female   [50-60)      ?   \n",
       "18         89682    107389323  AfricanAmerican    Male   [70-80)      ?   \n",
       "19        148530     69422211                ?    Male   [70-80)      ?   \n",
       "\n",
       "    admission_type_id  discharge_disposition_id  admission_source_id  \\\n",
       "0                   6                        25                    1   \n",
       "1                   1                         1                    7   \n",
       "2                   1                         1                    7   \n",
       "3                   1                         1                    7   \n",
       "4                   1                         1                    7   \n",
       "5                   2                         1                    2   \n",
       "6                   3                         1                    2   \n",
       "7                   1                         1                    7   \n",
       "8                   2                         1                    4   \n",
       "9                   3                         3                    4   \n",
       "10                  1                         1                    7   \n",
       "11                  2                         1                    4   \n",
       "12                  1                         3                    7   \n",
       "13                  1                         6                    7   \n",
       "14                  3                         1                    2   \n",
       "15                  1                         3                    7   \n",
       "16                  1                         1                    7   \n",
       "17                  1                         1                    7   \n",
       "18                  1                         1                    7   \n",
       "19                  3                         6                    2   \n",
       "\n",
       "    time_in_hospital    ...     citoglipton insulin  glyburide-metformin  \\\n",
       "0                  1    ...              No      No                   No   \n",
       "1                  3    ...              No      Up                   No   \n",
       "2                  2    ...              No      No                   No   \n",
       "3                  2    ...              No      Up                   No   \n",
       "4                  1    ...              No  Steady                   No   \n",
       "5                  3    ...              No  Steady                   No   \n",
       "6                  4    ...              No  Steady                   No   \n",
       "7                  5    ...              No      No                   No   \n",
       "8                 13    ...              No  Steady                   No   \n",
       "9                 12    ...              No  Steady                   No   \n",
       "10                 9    ...              No  Steady                   No   \n",
       "11                 7    ...              No  Steady                   No   \n",
       "12                 7    ...              No    Down                   No   \n",
       "13                10    ...              No  Steady                   No   \n",
       "14                 1    ...              No  Steady                   No   \n",
       "15                12    ...              No      Up                   No   \n",
       "16                 4    ...              No  Steady                   No   \n",
       "17                 3    ...              No      No                   No   \n",
       "18                 5    ...              No  Steady                   No   \n",
       "19                 6    ...              No  Steady                   No   \n",
       "\n",
       "    glipizide-metformin  glimepiride-pioglitazone  metformin-rosiglitazone  \\\n",
       "0                    No                        No                       No   \n",
       "1                    No                        No                       No   \n",
       "2                    No                        No                       No   \n",
       "3                    No                        No                       No   \n",
       "4                    No                        No                       No   \n",
       "5                    No                        No                       No   \n",
       "6                    No                        No                       No   \n",
       "7                    No                        No                       No   \n",
       "8                    No                        No                       No   \n",
       "9                    No                        No                       No   \n",
       "10                   No                        No                       No   \n",
       "11                   No                        No                       No   \n",
       "12                   No                        No                       No   \n",
       "13                   No                        No                       No   \n",
       "14                   No                        No                       No   \n",
       "15                   No                        No                       No   \n",
       "16                   No                        No                       No   \n",
       "17                   No                        No                       No   \n",
       "18                   No                        No                       No   \n",
       "19                   No                        No                       No   \n",
       "\n",
       "    metformin-pioglitazone  change diabetesMed readmitted  \n",
       "0                       No      No          No         NO  \n",
       "1                       No      Ch         Yes        >30  \n",
       "2                       No      No         Yes         NO  \n",
       "3                       No      Ch         Yes         NO  \n",
       "4                       No      Ch         Yes         NO  \n",
       "5                       No      No         Yes        >30  \n",
       "6                       No      Ch         Yes         NO  \n",
       "7                       No      No         Yes        >30  \n",
       "8                       No      Ch         Yes         NO  \n",
       "9                       No      Ch         Yes         NO  \n",
       "10                      No      No         Yes        >30  \n",
       "11                      No      Ch         Yes        <30  \n",
       "12                      No      Ch         Yes        <30  \n",
       "13                      No      No         Yes         NO  \n",
       "14                      No      No         Yes        >30  \n",
       "15                      No      Ch         Yes         NO  \n",
       "16                      No      Ch         Yes        <30  \n",
       "17                      No      No         Yes         NO  \n",
       "18                      No      No         Yes        >30  \n",
       "19                      No      Ch         Yes         NO  \n",
       "\n",
       "[20 rows x 50 columns]"
      ]
     },
     "execution_count": 2,
     "metadata": {},
     "output_type": "execute_result"
    }
   ],
   "source": [
    "# Read the dataset, show top rows\n",
    "\n",
    "X = pd.read_csv(\"Diabetes/diabetic_data.csv\")\n",
    "X.head(20)"
   ]
  },
  {
   "cell_type": "code",
   "execution_count": 51,
   "metadata": {},
   "outputs": [
    {
     "data": {
      "text/plain": [
       "['encounter_id',\n",
       " 'patient_nbr',\n",
       " 'race',\n",
       " 'gender',\n",
       " 'age',\n",
       " 'weight',\n",
       " 'admission_type_id',\n",
       " 'discharge_disposition_id',\n",
       " 'admission_source_id',\n",
       " 'time_in_hospital',\n",
       " 'payer_code',\n",
       " 'medical_specialty',\n",
       " 'num_lab_procedures',\n",
       " 'num_procedures',\n",
       " 'num_medications',\n",
       " 'number_outpatient',\n",
       " 'number_emergency',\n",
       " 'number_inpatient',\n",
       " 'diag_1',\n",
       " 'diag_2',\n",
       " 'diag_3',\n",
       " 'number_diagnoses',\n",
       " 'max_glu_serum',\n",
       " 'A1Cresult',\n",
       " 'metformin',\n",
       " 'repaglinide',\n",
       " 'nateglinide',\n",
       " 'chlorpropamide',\n",
       " 'glimepiride',\n",
       " 'acetohexamide',\n",
       " 'glipizide',\n",
       " 'glyburide',\n",
       " 'tolbutamide',\n",
       " 'pioglitazone',\n",
       " 'rosiglitazone',\n",
       " 'acarbose',\n",
       " 'miglitol',\n",
       " 'troglitazone',\n",
       " 'tolazamide',\n",
       " 'examide',\n",
       " 'citoglipton',\n",
       " 'insulin',\n",
       " 'glyburide-metformin',\n",
       " 'glipizide-metformin',\n",
       " 'glimepiride-pioglitazone',\n",
       " 'metformin-rosiglitazone',\n",
       " 'metformin-pioglitazone',\n",
       " 'change',\n",
       " 'diabetesMed',\n",
       " 'readmitted']"
      ]
     },
     "execution_count": 51,
     "metadata": {},
     "output_type": "execute_result"
    }
   ],
   "source": [
    "# Show all attributes\n",
    "list(X)"
   ]
  },
  {
   "cell_type": "code",
   "execution_count": 52,
   "metadata": {},
   "outputs": [
    {
     "name": "stdout",
     "output_type": "stream",
     "text": [
      "(101766, 50)\n",
      "Caucasian          76099\n",
      "AfricanAmerican    19210\n",
      "?                   2273\n",
      "Hispanic            2037\n",
      "Other               1506\n",
      "Asian                641\n",
      "Name: race, dtype: int64\n"
     ]
    }
   ],
   "source": [
    "# Examples of data exploration\n",
    "\n",
    "print(X.shape)\n",
    "print(X['race'].value_counts())"
   ]
  },
  {
   "cell_type": "markdown",
   "metadata": {},
   "source": [
    "**(TO-DO - Q1)** Inspired by the little piece of code above, write code to answer the following questions.  You can do part of the process manually (the code needs to help you answer).\n",
    "\n",
    "1. How many examples are in the dataset ? 101766\n",
    "2. How many features are in the dataset ? 50\n",
    "3. What are the possible age ranges, and the number of examples in each ?\n",
    "4. What are the prior probabilities of each class (>30, NO, <30) ?\n",
    "5. Are there some patient present in the dataset more than 20 times?"
   ]
  },
  {
   "cell_type": "code",
   "execution_count": 55,
   "metadata": {},
   "outputs": [
    {
     "name": "stdout",
     "output_type": "stream",
     "text": [
      "there are 101766 examples in the data set\n",
      "there are 50 features in the data set\n",
      "[70-80)     26068\n",
      "[60-70)     22483\n",
      "[50-60)     17256\n",
      "[80-90)     17197\n",
      "[40-50)      9685\n",
      "[30-40)      3775\n",
      "[90-100)     2793\n",
      "[20-30)      1657\n",
      "[10-20)       691\n",
      "[0-10)        161\n",
      "Name: age, dtype: int64\n",
      "the prior probability of >30 is 0.3492816854352141, <30 0.11159915885462728, and NO is 0.5391191557101586\n"
     ]
    }
   ],
   "source": [
    "### YOUR CODE -- Write which question it answers\n",
    "# 1. How many examples are in the dataset ? \n",
    "print(\"there are {} examples in the data set\".format(X.shape[0]))\n",
    "#101766\n",
    "\n",
    "# 2. How many features are in the dataset ?\n",
    "print(\"there are {} features in the data set\".format(X.shape[1]))\n",
    "#50\n",
    "\n",
    "# 3. What are the possible age ranges, and the number of examples in each ?\n",
    "print(X['age'].value_counts())\n",
    "# [70-80)     26068\n",
    "# [60-70)     22483\n",
    "# [50-60)     17256\n",
    "# [80-90)     17197\n",
    "# [40-50)      9685\n",
    "# [30-40)      3775\n",
    "# [90-100)     2793\n",
    "# [20-30)      1657\n",
    "# [10-20)       691\n",
    "# [0-10)        161\n",
    "\n",
    "\n",
    "# 4. What are the prior probabilities of each class (>30, NO, <30) ?\n",
    "XList = X['readmitted'].tolist()\n",
    "total = len(XList)\n",
    "less = 0\n",
    "no = 0\n",
    "more = 0\n",
    "for X in XList:\n",
    "    if X == \">30\":\n",
    "        more +=1\n",
    "    elif X == \"<30\": \n",
    "        less +=1\n",
    "    elif X == \"NO\":\n",
    "        no += 1\n",
    "print(\"the prior probability of >30 is {0}, <30 {1}, and NO is {2}\".format(more/total, less/total, no/total))\n",
    "\n",
    "\n",
    "X = pd.read_csv(\"Diabetes/diabetic_data.csv\")"
   ]
  },
  {
   "cell_type": "code",
   "execution_count": 64,
   "metadata": {},
   "outputs": [
    {
     "name": "stdout",
     "output_type": "stream",
     "text": [
      "88785891      True\n",
      "43140906      True\n",
      "23199021      True\n",
      "1660293       True\n",
      "88227540      True\n",
      "23643405      True\n",
      "84428613      True\n",
      "92709351      True\n",
      "23398488     False\n",
      "90609804     False\n",
      "88789707     False\n",
      "37096866     False\n",
      "89472402     False\n",
      "29903877     False\n",
      "88681950     False\n",
      "88479036     False\n",
      "97391007     False\n",
      "24011577     False\n",
      "3481272      False\n",
      "91160280     False\n",
      "84348792     False\n",
      "3401055      False\n",
      "91751121     False\n",
      "106757478    False\n",
      "90489195     False\n",
      "41699412     False\n",
      "84676248     False\n",
      "384939       False\n",
      "90164655     False\n",
      "41617368     False\n",
      "             ...  \n",
      "141459593    False\n",
      "54207855     False\n",
      "71579169     False\n",
      "23406147     False\n",
      "6348348      False\n",
      "137952824    False\n",
      "23234103     False\n",
      "78943797     False\n",
      "43683723     False\n",
      "85241394     False\n",
      "18267696     False\n",
      "45161577     False\n",
      "32417442     False\n",
      "61105707     False\n",
      "106231896    False\n",
      "3397149      False\n",
      "39734766     False\n",
      "23850522     False\n",
      "42977016     False\n",
      "113160366    False\n",
      "8105490      False\n",
      "16600590     False\n",
      "92990970     False\n",
      "783198       False\n",
      "105551478    False\n",
      "71081460     False\n",
      "30060018     False\n",
      "67443444     False\n",
      "141344240    False\n",
      "93251151     False\n",
      "Name: patient_nbr, Length: 71518, dtype: bool\n"
     ]
    }
   ],
   "source": [
    "# 5. Are there some patient present in the dataset more than 20 times?\n",
    "print(X['patient_nbr'].value_counts()>20)\n",
    "# yes there are "
   ]
  },
  {
   "cell_type": "markdown",
   "metadata": {},
   "source": [
    "**3.  Preparing the dataset for experimentation**\n",
    "\n",
    "We will do different steps to prepare the data for experimentations:  (1) extracting the class we wish to predict, (2) splitting the dataset into a training and a test set"
   ]
  },
  {
   "cell_type": "code",
   "execution_count": 3,
   "metadata": {},
   "outputs": [],
   "source": [
    "# This can ONLY BE DONE ONCE, as we pop the values into a new variable to be used as predicted class\n",
    "y = X.pop(\"readmitted\").values"
   ]
  },
  {
   "cell_type": "code",
   "execution_count": 4,
   "metadata": {},
   "outputs": [
    {
     "name": "stdout",
     "output_type": "stream",
     "text": [
      "(76324, 49)\n",
      "(25442,)\n"
     ]
    }
   ],
   "source": [
    "# split the large dataset into train and test\n",
    "from sklearn.model_selection import train_test_split\n",
    "\n",
    "X_train, X_test, y_train, y_test = train_test_split(X, y, test_size = 0.25)\n",
    "print(X_train.shape)\n",
    "print(y_test.shape)"
   ]
  },
  {
   "cell_type": "markdown",
   "metadata": {},
   "source": [
    "**4. Input encoding**\n",
    "\n",
    "We saw in class that any multi-value feature must be encoded into a one-hot vector.  The code below allows this encoding."
   ]
  },
  {
   "cell_type": "code",
   "execution_count": 5,
   "metadata": {},
   "outputs": [
    {
     "data": {
      "text/plain": [
       "OneHotEncoder(categorical_features=None, categories=None,\n",
       "       dtype=<class 'numpy.float64'>, handle_unknown='ignore',\n",
       "       n_values=None, sparse=False)"
      ]
     },
     "execution_count": 5,
     "metadata": {},
     "output_type": "execute_result"
    }
   ],
   "source": [
    "from sklearn import preprocessing\n",
    "from sklearn.preprocessing import OneHotEncoder\n",
    "\n",
    "# encoder\n",
    "ohe = OneHotEncoder(sparse=False, handle_unknown='ignore')\n",
    "\n",
    "# since the dataset is quite large, try a subset of features\n",
    "featureSet = ['race','gender','age', 'weight', 'time_in_hospital', 'num_lab_procedures', 'num_procedures',\n",
    " 'num_medications']\n",
    "\n",
    "# make a copy of the training set containing only the chosen features\n",
    "X_train_sf = X_train[featureSet].copy()\n",
    "X_test_sf = X_test[featureSet].copy()\n",
    "\n",
    "# IF you wanted to try with the full dataset, try to redo the steps with this (optional - takes a lot of time)\n",
    "# X_train_allf = X_train[:].copy()\n",
    "# X_test_allf = X_test[:].copy()\n",
    "\n",
    "# perform the one-hot encoder on the 3 features selected\n",
    "ohe.fit(X_train_sf)\n"
   ]
  },
  {
   "cell_type": "code",
   "execution_count": 6,
   "metadata": {},
   "outputs": [
    {
     "name": "stdout",
     "output_type": "stream",
     "text": [
      "['x0_?' 'x0_AfricanAmerican' 'x0_Asian' 'x0_Caucasian' 'x0_Hispanic'\n",
      " 'x0_Other' 'x1_Female' 'x1_Male' 'x1_Unknown/Invalid' 'x2_[0-10)'\n",
      " 'x2_[10-20)' 'x2_[20-30)' 'x2_[30-40)' 'x2_[40-50)' 'x2_[50-60)'\n",
      " 'x2_[60-70)' 'x2_[70-80)' 'x2_[80-90)' 'x2_[90-100)' 'x3_>200' 'x3_?'\n",
      " 'x3_[0-25)' 'x3_[100-125)' 'x3_[125-150)' 'x3_[150-175)' 'x3_[175-200)'\n",
      " 'x3_[25-50)' 'x3_[50-75)' 'x3_[75-100)' 'x4_1' 'x4_2' 'x4_3' 'x4_4'\n",
      " 'x4_5' 'x4_6' 'x4_7' 'x4_8' 'x4_9' 'x4_10' 'x4_11' 'x4_12' 'x4_13'\n",
      " 'x4_14' 'x5_1' 'x5_2' 'x5_3' 'x5_4' 'x5_5' 'x5_6' 'x5_7' 'x5_8' 'x5_9'\n",
      " 'x5_10' 'x5_11' 'x5_12' 'x5_13' 'x5_14' 'x5_15' 'x5_16' 'x5_17' 'x5_18'\n",
      " 'x5_19' 'x5_20' 'x5_21' 'x5_22' 'x5_23' 'x5_24' 'x5_25' 'x5_26' 'x5_27'\n",
      " 'x5_28' 'x5_29' 'x5_30' 'x5_31' 'x5_32' 'x5_33' 'x5_34' 'x5_35' 'x5_36'\n",
      " 'x5_37' 'x5_38' 'x5_39' 'x5_40' 'x5_41' 'x5_42' 'x5_43' 'x5_44' 'x5_45'\n",
      " 'x5_46' 'x5_47' 'x5_48' 'x5_49' 'x5_50' 'x5_51' 'x5_52' 'x5_53' 'x5_54'\n",
      " 'x5_55' 'x5_56' 'x5_57' 'x5_58' 'x5_59' 'x5_60' 'x5_61' 'x5_62' 'x5_63'\n",
      " 'x5_64' 'x5_65' 'x5_66' 'x5_67' 'x5_68' 'x5_69' 'x5_70' 'x5_71' 'x5_72'\n",
      " 'x5_73' 'x5_74' 'x5_75' 'x5_76' 'x5_77' 'x5_78' 'x5_79' 'x5_80' 'x5_81'\n",
      " 'x5_82' 'x5_83' 'x5_84' 'x5_85' 'x5_86' 'x5_87' 'x5_88' 'x5_89' 'x5_90'\n",
      " 'x5_91' 'x5_92' 'x5_93' 'x5_94' 'x5_95' 'x5_96' 'x5_97' 'x5_98' 'x5_99'\n",
      " 'x5_100' 'x5_101' 'x5_102' 'x5_103' 'x5_104' 'x5_105' 'x5_106' 'x5_107'\n",
      " 'x5_108' 'x5_109' 'x5_111' 'x5_113' 'x5_114' 'x5_118' 'x5_120' 'x5_121'\n",
      " 'x5_129' 'x6_0' 'x6_1' 'x6_2' 'x6_3' 'x6_4' 'x6_5' 'x6_6' 'x7_1' 'x7_2'\n",
      " 'x7_3' 'x7_4' 'x7_5' 'x7_6' 'x7_7' 'x7_8' 'x7_9' 'x7_10' 'x7_11' 'x7_12'\n",
      " 'x7_13' 'x7_14' 'x7_15' 'x7_16' 'x7_17' 'x7_18' 'x7_19' 'x7_20' 'x7_21'\n",
      " 'x7_22' 'x7_23' 'x7_24' 'x7_25' 'x7_26' 'x7_27' 'x7_28' 'x7_29' 'x7_30'\n",
      " 'x7_31' 'x7_32' 'x7_33' 'x7_34' 'x7_35' 'x7_36' 'x7_37' 'x7_38' 'x7_39'\n",
      " 'x7_40' 'x7_41' 'x7_42' 'x7_43' 'x7_44' 'x7_45' 'x7_46' 'x7_47' 'x7_48'\n",
      " 'x7_49' 'x7_50' 'x7_51' 'x7_52' 'x7_53' 'x7_54' 'x7_55' 'x7_56' 'x7_57'\n",
      " 'x7_58' 'x7_59' 'x7_60' 'x7_61' 'x7_62' 'x7_63' 'x7_64' 'x7_65' 'x7_66'\n",
      " 'x7_67' 'x7_68' 'x7_69' 'x7_72' 'x7_74' 'x7_75' 'x7_79' 'x7_81']\n"
     ]
    }
   ],
   "source": [
    "# The one-hot-encoder renames the features\n",
    "\n",
    "feature_names = ohe.get_feature_names()\n",
    "print(feature_names)"
   ]
  },
  {
   "cell_type": "code",
   "execution_count": 7,
   "metadata": {},
   "outputs": [],
   "source": [
    "# We can now encode the training and test set with the new features\n",
    "\n",
    "X_train_sf_encoded = ohe.transform(X_train_sf)\n",
    "X_test_sf_encoded = ohe.transform(X_test_sf)"
   ]
  },
  {
   "cell_type": "markdown",
   "metadata": {},
   "source": [
    "**(TO-DO - Q2)** - How many features are there now, after the one-hot-encoder? Why so many? Show the shape of the training set now."
   ]
  },
  {
   "cell_type": "code",
   "execution_count": 8,
   "metadata": {},
   "outputs": [
    {
     "data": {
      "text/plain": [
       "(76324, 240)"
      ]
     },
     "execution_count": 8,
     "metadata": {},
     "output_type": "execute_result"
    }
   ],
   "source": [
    "# We can see the shape of the training data\n",
    "X_train_sf_encoded.shape"
   ]
  },
  {
   "cell_type": "markdown",
   "metadata": {},
   "source": [
    "There are 240 features now. We have a lot more features due to what one-hot-encoder is doing. All distinct values from previous features are now made into their own features. So if we had a feature that had Caucasian, AfricanAmerican, Hispanic, Other, Asian that all wouldve been in one feauture. But now they each become their own fetures getting assigned a value (0, or 1) if it is true or not. "
   ]
  },
  {
   "cell_type": "markdown",
   "metadata": {},
   "source": [
    "**5. Train the Multi-layer Perceptron**"
   ]
  },
  {
   "cell_type": "code",
   "execution_count": 9,
   "metadata": {},
   "outputs": [],
   "source": [
    "# Import the MLP model\n",
    "from sklearn.neural_network import MLPClassifier\n",
    "import datetime\n",
    "import matplotlib.pyplot as plt"
   ]
  },
  {
   "cell_type": "code",
   "execution_count": 10,
   "metadata": {},
   "outputs": [],
   "source": [
    "# Define the model\n",
    "clf = MLPClassifier(solver='lbfgs', alpha=1e-5, hidden_layer_sizes=(100, 2), random_state=1, max_iter=100, learning_rate_init=.01, warm_start=True)"
   ]
  },
  {
   "cell_type": "markdown",
   "metadata": {},
   "source": [
    "**(TO-DO - Q3)** - Explain the parameters chosen above, and explain what the \"score\" is (used below).  You will need to look into the documentation for MLPclassifier to understand the score."
   ]
  },
  {
   "cell_type": "markdown",
   "metadata": {},
   "source": [
    "<li> ‘lbfgs’ is an optimizer in the family of quasi-Newton methods. It is the solver for weight optimization.\n",
    "<li> Alpha is the L2 penalty (regularization term) parameter. We have chosen an extremely small regularization. \n",
    "<li> Hidden layer size is the number of neurons in the hidden layers. We have it set to (100,100) which is 2 layers of 100 nodes. In our exmaple we have 2 hidden layer one with 100 nodes, and one with 2\n",
    "<li> Random_state is the seed used by the random number generator. We have chosen 1. it is used in many randomized algorithms in sklearn to determine the random seed passed to the pseudo-random number generator.\n",
    "<li> Maximum number of iterations. The solver iterates until convergence (determined by ‘tol’) or this number of iterations. We have it to 100 so if we do not converge by 100 we will halt. \n",
    "<li> The initial learning rate used. It controls the step-size in updating the weights The step size is small but not as small as the default. Smaller steps can take longer but more accurate whereas bigger steps can miss valuable point and jump around too much if it misses the minimum and goes higher and lower. \n",
    "<li> When set to True, reuse the solution of the previous call to fit as initialization\n",
    "<li> Score returns the mean accuracy on the given test data and labels."
   ]
  },
  {
   "cell_type": "code",
   "execution_count": 11,
   "metadata": {},
   "outputs": [
    {
     "name": "stdout",
     "output_type": "stream",
     "text": [
      "Iteration: 1-- 2018-11-21 01:52:44.512580\n",
      "Iteration: 2-- 2018-11-21 01:53:24.209655\n",
      "Iteration: 3-- 2018-11-21 01:54:04.554801\n",
      "Iteration: 4-- 2018-11-21 01:54:42.903640\n",
      "Iteration: 5-- 2018-11-21 01:55:21.463417\n",
      "Iteration: 6-- 2018-11-21 01:56:00.319200\n",
      "Iteration: 7-- 2018-11-21 01:56:38.689804\n",
      "Iteration: 8-- 2018-11-21 01:57:19.087943\n",
      "Iteration: 9-- 2018-11-21 01:57:57.561378\n"
     ]
    }
   ],
   "source": [
    "# This steps trains the model\n",
    "# ATTENTION - THIS CAN TAKE LONG IF YOU CHOSE MANY ITERATIONS AND/OR LARGE HIDDEN LAYERS\n",
    "# Each iteration, on my machine, takes about 80 seconds.  Be patient.\n",
    "scores_train = []\n",
    "for i in range(1,10):\n",
    "    print(\"Iteration: \" + str(i) + \"-- \" + str(datetime.datetime.now()))\n",
    "    clf.fit(X_train_sf_encoded, y_train)\n",
    "    score = clf.score(X_train_sf_encoded, y_train)\n",
    "    scores_train.append(score)\n"
   ]
  },
  {
   "cell_type": "code",
   "execution_count": 12,
   "metadata": {},
   "outputs": [
    {
     "data": {
      "image/png": "[encoded data removed]",
      "text/plain": [
       "<Figure size 432x288 with 1 Axes>"
      ]
     },
     "metadata": {},
     "output_type": "display_data"
    }
   ],
   "source": [
    "# plot the scores\n",
    "plt.plot([i for i in range(len(scores_train))], scores_train)\n",
    "plt.ylabel('Score')\n",
    "plt.xlabel('Iteration')\n",
    "plt.show()"
   ]
  },
  {
   "cell_type": "markdown",
   "metadata": {},
   "source": [
    "**(TO-DO : Q4)** Describe what the code below shows."
   ]
  },
  {
   "cell_type": "code",
   "execution_count": 13,
   "metadata": {},
   "outputs": [
    {
     "name": "stdout",
     "output_type": "stream",
     "text": [
      "['NO' '>30' '>30' '>30' 'NO' 'NO' '>30' 'NO' 'NO' 'NO']\n",
      "['>30' '>30' '>30' 'NO' 'NO' '>30' '>30' 'NO' 'NO' 'NO']\n"
     ]
    },
    {
     "data": {
      "text/plain": [
       "array([[0.12269061, 0.36910215, 0.50820724],\n",
       "       [0.16332462, 0.51682005, 0.31985533],\n",
       "       [0.16561638, 0.52584121, 0.30854241],\n",
       "       [0.16561638, 0.52584121, 0.30854241],\n",
       "       [0.003544  , 0.00802534, 0.98843066],\n",
       "       [0.03374723, 0.08969583, 0.87655695],\n",
       "       [0.16561638, 0.52584121, 0.30854241],\n",
       "       [0.0146238 , 0.03653977, 0.94883644],\n",
       "       [0.05662282, 0.15699027, 0.78638691],\n",
       "       [0.09578205, 0.27945548, 0.62476247]])"
      ]
     },
     "execution_count": 13,
     "metadata": {},
     "output_type": "execute_result"
    }
   ],
   "source": [
    "# Show the prediction on the first 10 examples\n",
    "y_predicted = clf.predict(X_train_sf_encoded[0:10])\n",
    "print(y_predicted)\n",
    "print(y_train[0:10])\n",
    "clf.predict_proba(X_train_sf_encoded[0:10])"
   ]
  },
  {
   "cell_type": "markdown",
   "metadata": {},
   "source": [
    "Here we have 10 instances we want to predict. Wether it is <30, >30 or NO. Our output array has 10 rows for each of the 10 examples and 3 columns which shows the confidence of the algorithm that that instance belongs to each class. For example we look at row 1. The first is input '>30', it is the ground truth for that example. The algorithm is .12 sure that it is <30, .36 sure that it is >30 and .50 sure that it is NO so it returns the highest one which is NO in this example. This example the algorithm got it wrong. Row 2 correctly has it right at .51 sure that it is >30. "
   ]
  },
  {
   "cell_type": "markdown",
   "metadata": {},
   "source": [
    "**5. Test the Multi-layer Perceptron**"
   ]
  },
  {
   "cell_type": "markdown",
   "metadata": {},
   "source": [
    "**(TO-DO - Q5)** Now that we've trained the model, evaluate on the test set.  What is the score?  How is it compared to the score on the training set?"
   ]
  },
  {
   "cell_type": "code",
   "execution_count": 23,
   "metadata": {},
   "outputs": [
    {
     "name": "stdout",
     "output_type": "stream",
     "text": [
      "0.538872730131279\n"
     ]
    }
   ],
   "source": [
    "# The test set is encoded in here: X_test_sf_encoded\n",
    "scores_test = 0\n",
    "clf.fit(X_test_sf_encoded, y_test)\n",
    "score_test = clf.score(X_test_sf_encoded, y_test)\n",
    "\n",
    "print(score_test)"
   ]
  },
  {
   "cell_type": "markdown",
   "metadata": {},
   "source": [
    "The score is 0.538872730131279 which is a little worse than the score of the traning ~0.66"
   ]
  },
  {
   "cell_type": "markdown",
   "metadata": {},
   "source": [
    "**6. Varying hyperparameters**\n",
    "\n",
    "There are many hyperparameters that can be varied (number of hidden layers, learning rate, etc).  It takes time to do these variations... we'll perform just two variations."
   ]
  },
  {
   "cell_type": "markdown",
   "metadata": {},
   "source": [
    "**(TO-DO - Q6)** - Redo the experiment above (train + test), changing the number and size of hidden layers to have three layers of 30 units each.  DO NOT CHANGE the code above directly, copy the part of the code needed below, using other variable names (this will allow to run the full notebook in a linear manner).  Compare the results with the first experiment, is it better? worst? Then keep the best model, and change the activation function to the sigmoid.  Better or worst?"
   ]
  },
  {
   "cell_type": "code",
   "execution_count": 17,
   "metadata": {},
   "outputs": [],
   "source": [
    "# Define the model\n",
    "clf2 = MLPClassifier(solver='lbfgs', alpha=1e-5, hidden_layer_sizes=(30, 30, 30), random_state=1, max_iter=100, learning_rate_init=.01, warm_start=True)\n",
    "\n"
   ]
  },
  {
   "cell_type": "code",
   "execution_count": 25,
   "metadata": {},
   "outputs": [
    {
     "name": "stdout",
     "output_type": "stream",
     "text": [
      "Iteration: 1-- 2018-11-21 02:33:16.655331\n",
      "Iteration: 2-- 2018-11-21 02:33:48.016588\n",
      "Iteration: 3-- 2018-11-21 02:34:18.863747\n",
      "Iteration: 4-- 2018-11-21 02:34:50.447687\n",
      "Iteration: 5-- 2018-11-21 02:35:20.896949\n",
      "Iteration: 6-- 2018-11-21 02:35:51.409063\n",
      "Iteration: 7-- 2018-11-21 02:36:22.843387\n",
      "Iteration: 8-- 2018-11-21 02:36:56.251301\n",
      "Iteration: 9-- 2018-11-21 02:37:28.786817\n"
     ]
    }
   ],
   "source": [
    "scores_train2 = []\n",
    "for i in range(1,10):\n",
    "    print(\"Iteration: \" + str(i) + \"-- \" + str(datetime.datetime.now()))\n",
    "    clf2.fit(X_train_sf_encoded, y_train)\n",
    "    score2 = clf2.score(X_train_sf_encoded, y_train)\n",
    "    scores_train2.append(score2)\n",
    "# print(scores_train)"
   ]
  },
  {
   "cell_type": "code",
   "execution_count": 26,
   "metadata": {},
   "outputs": [
    {
     "data": {
      "image/png": "[encoded data removed]",
      "text/plain": [
       "<Figure size 432x288 with 1 Axes>"
      ]
     },
     "metadata": {},
     "output_type": "display_data"
    }
   ],
   "source": [
    "# plot the scores\n",
    "plt.plot([i for i in range(len(scores_train2))], scores_train2)\n",
    "plt.ylabel('Score')\n",
    "plt.xlabel('Iteration')\n",
    "plt.show()"
   ]
  },
  {
   "cell_type": "markdown",
   "metadata": {},
   "source": [
    "The results of this model is worse (~.60) than the previous model (~.66). I then changed the activation funtion to the first model since the second one took very long to run. "
   ]
  },
  {
   "cell_type": "code",
   "execution_count": 28,
   "metadata": {},
   "outputs": [],
   "source": [
    "# Define the model\n",
    "clf3 = MLPClassifier(activation='logistic', solver='lbfgs', alpha=1e-5, hidden_layer_sizes=(100,2), random_state=1, max_iter=100, learning_rate_init=.01, warm_start=True)"
   ]
  },
  {
   "cell_type": "code",
   "execution_count": 29,
   "metadata": {},
   "outputs": [
    {
     "name": "stdout",
     "output_type": "stream",
     "text": [
      "Iteration: 1-- 2018-11-21 02:40:01.758119\n",
      "Iteration: 2-- 2018-11-21 02:40:45.584806\n",
      "Iteration: 3-- 2018-11-21 02:41:28.475405\n",
      "Iteration: 4-- 2018-11-21 02:42:11.485528\n",
      "Iteration: 5-- 2018-11-21 02:42:56.174932\n",
      "Iteration: 6-- 2018-11-21 02:43:40.079256\n",
      "Iteration: 7-- 2018-11-21 02:44:26.301253\n",
      "Iteration: 8-- 2018-11-21 02:45:07.797919\n",
      "Iteration: 9-- 2018-11-21 02:45:49.497645\n"
     ]
    }
   ],
   "source": [
    "scores_train3 = []\n",
    "for i in range(1,10):\n",
    "    print(\"Iteration: \" + str(i) + \"-- \" + str(datetime.datetime.now()))\n",
    "    clf3.fit(X_train_sf_encoded, y_train)\n",
    "    score3 = clf3.score(X_train_sf_encoded, y_train)\n",
    "    scores_train3.append(score3)\n",
    "# print(scores_train)"
   ]
  },
  {
   "cell_type": "code",
   "execution_count": 30,
   "metadata": {},
   "outputs": [
    {
     "data": {
      "image/png": "[encoded data removed]",
      "text/plain": [
       "<Figure size 432x288 with 1 Axes>"
      ]
     },
     "metadata": {},
     "output_type": "display_data"
    }
   ],
   "source": [
    "# plot the scores\n",
    "plt.plot([i for i in range(len(scores_train3))], scores_train3)\n",
    "plt.ylabel('Score')\n",
    "plt.xlabel('Iteration')\n",
    "plt.show()"
   ]
  },
  {
   "cell_type": "markdown",
   "metadata": {},
   "source": [
    "The results with the sigmoid function are worse (~.57) than the default relu (~.66)"
   ]
  },
  {
   "cell_type": "markdown",
   "metadata": {},
   "source": [
    "**(TO_DO - Q7 - Optional)** -- Compare the results with the logistic regression classifier available in sklearn."
   ]
  },
  {
   "cell_type": "code",
   "execution_count": null,
   "metadata": {},
   "outputs": [],
   "source": [
    "# Logistic regression\n",
    "from sklearn.linear_model import LogisticRegression\n",
    "# ...."
   ]
  },
  {
   "cell_type": "markdown",
   "metadata": {},
   "source": [
    "#### Signature\n",
    "\n",
    "I, Felix Singerman, declare that the answers provided in this notebook are my own."
   ]
  },
  {
   "cell_type": "code",
   "execution_count": null,
   "metadata": {},
   "outputs": [],
   "source": []
  }
 ],
 "metadata": {
  "kernelspec": {
   "display_name": "Python 3",
   "language": "python",
   "name": "python3"
  },
  "language_info": {
   "codemirror_mode": {
    "name": "ipython",
    "version": 3
   },
   "file_extension": ".py",
   "mimetype": "text/x-python",
   "name": "python",
   "nbconvert_exporter": "python",
   "pygments_lexer": "ipython3",
   "version": "3.6.4"
  }
 },
 "nbformat": 4,
 "nbformat_minor": 2
}
