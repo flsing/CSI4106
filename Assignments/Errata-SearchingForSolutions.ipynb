{
 "cells": [
  {
   "cell_type": "markdown",
   "metadata": {},
   "source": [
    "The provided implementation of A* has a mistake in it."
   ]
  },
  {
   "cell_type": "code",
   "execution_count": null,
   "metadata": {},
   "outputs": [],
   "source": [
    "class AStarSearcher(GenericSearcher):\n",
    "    \"\"\"returns a searcher for a problem.\n",
    "    Paths can be found by repeatedly calling search().\n",
    "    \"\"\"\n",
    "\n",
    "    def __init__(self, problem):   \n",
    "        super().__init__(problem)\n",
    "\n",
    "    def add_to_frontier(self,path):\n",
    "        \"\"\"add path to the frontier with the appropriate cost\"\"\"\n",
    "        # add path to the frontier \n",
    "        self.frontier.append(path)\n",
    "        # gather all the costs of all paths in hvalues\n",
    "        hvalues = [p.cost+self.problem.heuristic(path.end()) for p in self.frontier]\n",
    "        # find the position of the minimum cost\n",
    "        posMin = hvalues.index(min(hvalues))\n",
    "        # remove the element at the position found and append it to the list, so that \"pop\" finds it there later\n",
    "        self.frontier.append(self.frontier.pop(posMin))  # put it in front for pop to work later"
   ]
  },
  {
   "cell_type": "markdown",
   "metadata": {},
   "source": [
    "Please replace it by this implementation.  Do you see the difference?"
   ]
  },
  {
   "cell_type": "code",
   "execution_count": 1,
   "metadata": {},
   "outputs": [
    {
     "ename": "NameError",
     "evalue": "name 'GenericSearcher' is not defined",
     "output_type": "error",
     "traceback": [
      "\u001b[1;31m---------------------------------------------------------------------------\u001b[0m",
      "\u001b[1;31mNameError\u001b[0m                                 Traceback (most recent call last)",
      "\u001b[1;32m<ipython-input-1-e253d08523de>\u001b[0m in \u001b[0;36m<module>\u001b[1;34m()\u001b[0m\n\u001b[1;32m----> 1\u001b[1;33m \u001b[1;32mclass\u001b[0m \u001b[0mAStarSearcher\u001b[0m\u001b[1;33m(\u001b[0m\u001b[0mGenericSearcher\u001b[0m\u001b[1;33m)\u001b[0m\u001b[1;33m:\u001b[0m\u001b[1;33m\u001b[0m\u001b[0m\n\u001b[0m\u001b[0;32m      2\u001b[0m     \"\"\"returns a searcher for a problem.\n\u001b[0;32m      3\u001b[0m     \u001b[0mPaths\u001b[0m \u001b[0mcan\u001b[0m \u001b[0mbe\u001b[0m \u001b[0mfound\u001b[0m \u001b[0mby\u001b[0m \u001b[0mrepeatedly\u001b[0m \u001b[0mcalling\u001b[0m \u001b[0msearch\u001b[0m\u001b[1;33m(\u001b[0m\u001b[1;33m)\u001b[0m\u001b[1;33m.\u001b[0m\u001b[1;33m\u001b[0m\u001b[0m\n\u001b[0;32m      4\u001b[0m     \"\"\"\n\u001b[0;32m      5\u001b[0m \u001b[1;33m\u001b[0m\u001b[0m\n",
      "\u001b[1;31mNameError\u001b[0m: name 'GenericSearcher' is not defined"
     ]
    }
   ],
   "source": [
    "class AStarSearcher(GenericSearcher):\n",
    "    \"\"\"returns a searcher for a problem.\n",
    "    Paths can be found by repeatedly calling search().\n",
    "    \"\"\"\n",
    "\n",
    "    def __init__(self, problem):   \n",
    "        super().__init__(problem)\n",
    "\n",
    "    def add_to_frontier(self,path):\n",
    "        \"\"\"add path to the frontier with the appropriate cost\"\"\"\n",
    "        # add path to the frontier \n",
    "        self.frontier.append(path)\n",
    "        # gather all the costs of all paths in hvalues\n",
    "        hvalues = [p.cost+self.problem.heuristic(p.end()) for p in self.frontier]\n",
    "        # find the position of the minimum cost\n",
    "        posMin = hvalues.index(min(hvalues))\n",
    "        # remove the element at the position found and append it to the list, so that \"pop\" finds it there later\n",
    "        self.frontier.append(self.frontier.pop(posMin))  # put it in front for pop to work later"
   ]
  },
  {
   "cell_type": "code",
   "execution_count": null,
   "metadata": {},
   "outputs": [],
   "source": []
  }
 ],
 "metadata": {
  "kernelspec": {
   "display_name": "Python 3",
   "language": "python",
   "name": "python3"
  },
  "language_info": {
   "codemirror_mode": {
    "name": "ipython",
    "version": 3
   },
   "file_extension": ".py",
   "mimetype": "text/x-python",
   "name": "python",
   "nbconvert_exporter": "python",
   "pygments_lexer": "ipython3",
   "version": "3.6.4"
  }
 },
 "nbformat": 4,
 "nbformat_minor": 2
}
