{
 "cells": [
  {
   "cell_type": "markdown",
   "metadata": {
    "colab_type": "text",
    "id": "B3clwwYouEN7"
   },
   "source": [
    "# PUBG Finish Placement Prediction\n",
    "\n",
    "* Diego Pontones - 8281209\n",
    "* Felix Singerman - 7970742\n",
    "* Patrick Langis - 8196917\n"
   ]
  },
  {
   "cell_type": "markdown",
   "metadata": {},
   "source": [
    "So, where we droppin' boys and girls?\n",
    "\n",
    "Battle Royale-style video games have taken the world by storm. 100 players are dropped onto an island empty-handed and must explore, scavenge, and eliminate other players until only one is left standing, all while the play zone continues to shrink.\n",
    "\n",
    "PlayerUnknown's BattleGrounds (PUBG) has enjoyed massive popularity. With over 50 million copies sold, it's the fifth best selling game of all time, and has millions of active monthly players.\n",
    "\n",
    "The team at PUBG has made official game data available for the public to explore and scavenge outside of \"The Blue Circle.\" This competition is not an official or affiliated PUBG site - Kaggle collected data made possible through the PUBG Developer API.\n",
    "\n",
    "You are given over 65,000 games' worth of anonymized player data, split into training and testing sets, and asked to predict final placement from final in-game stats and initial player ratings.\n",
    "\n",
    "What's the best strategy to win in PUBG? Should you sit in one spot and hide your way into victory, or do you need to be the top shot? Let's let the data do the talking!"
   ]
  },
  {
   "cell_type": "markdown",
   "metadata": {},
   "source": [
    "# Table of Contents"
   ]
  },
  {
   "cell_type": "markdown",
   "metadata": {},
   "source": [
    "* [Getting Started](#1)\n",
    "* [Data Exploration](#2)\n",
    "* [Feature Engineering](#3)\n",
    "* [Machine Learning](#4)\n",
    "* [Kaggle Submission](#5)"
   ]
  },
  {
   "cell_type": "markdown",
   "metadata": {},
   "source": [
    "> # Getting Started <a id=\"1\"></a>"
   ]
  },
  {
   "cell_type": "markdown",
   "metadata": {},
   "source": [
    "In a PUBG game, up to 100 players start in each match (matchId). Players can be on teams (groupId) which get ranked at the end of the game (winPlacePerc) based on how many other teams are still alive when they are eliminated. In game, players can pick up different munitions, revive downed-but-not-out (knocked) teammates, drive vehicles, swim, run, shoot, and experience all of the consequences -- such as falling too far or running themselves over and eliminating themselves.\n",
    "\n",
    "You are provided with a large number of anonymized PUBG game stats, formatted so that each row contains one player's post-game stats. The data comes from matches of all types: solos, duos, squads, and custom; there is no guarantee of there being 100 players per match, nor at most 4 player per group.\n",
    "\n",
    "You must create a model which predicts players' finishing placement based on their final stats, on a scale from 1 (first place) to 0 (last place)."
   ]
  },
  {
   "cell_type": "markdown",
   "metadata": {},
   "source": [
    "### File descriptions\n",
    "* train_V2.csv - the training set\n",
    "* test_V2.csv - the test set\n",
    "\n",
    "### Data fields\n",
    "* DBNOs - Number of enemy players knocked.\n",
    "* assists - Number of enemy players this player damaged that were killed by teammates.\n",
    "* boosts - Number of boost items used.\n",
    "* damageDealt - Total damage dealt. Note: Self inflicted damage is subtracted.\n",
    "* headshotKills - Number of enemy players killed with headshots.\n",
    "* heals - Number of healing items used.\n",
    "* Id - Player’s Id\n",
    "* killPlace - Ranking in match of number of enemy players killed.\n",
    "* killPoints - Kills-based external ranking of player. (Think of this as an Elo ranking where only kills matter.) If there is a value other than -1 in rankPoints, then any 0 in killPoints should be treated as a “None”.\n",
    "* killStreaks - Max number of enemy players killed in a short amount of time.\n",
    "* kills - Number of enemy players killed.\n",
    "* longestKill - Longest distance between player and player killed at time of death. This may be misleading, as downing a player and driving away may lead to a large longestKill stat.\n",
    "* matchDuration - Duration of match in seconds.\n",
    "* matchId - ID to identify match. There are no matches that are in both the training and testing set.\n",
    "* matchType - String identifying the game mode that the data comes from. The standard modes are “solo”, “duo”, “squad”, “solo-fpp”, “duo-fpp”, and “squad-fpp”; other modes are from events or custom matches.\n",
    "* rankPoints - Elo-like ranking of player. This ranking is inconsistent and is being deprecated in the API’s next version, so use with caution. Value of -1 takes place of “None”.\n",
    "* revives - Number of times this player revived teammates.\n",
    "* rideDistance - Total distance traveled in vehicles measured in meters.\n",
    "* roadKills - Number of kills while in a vehicle.\n",
    "* swimDistance - Total distance traveled by swimming measured in meters.\n",
    "* teamKills - Number of times this player killed a teammate.\n",
    "* vehicleDestroys - Number of vehicles destroyed.\n",
    "* walkDistance - Total distance traveled on foot measured in meters.\n",
    "* weaponsAcquired - Number of weapons picked up.\n",
    "* winPoints - Win-based external ranking of player. (Think of this as an Elo ranking where only winning matters.) If there is a value other than -1 in rankPoints, then any 0 in winPoints should be treated as a “None”.\n",
    "* groupId - ID to identify a group within a match. If the same group of players plays in different matches, they will have a different groupId each time.\n",
    "* numGroups - Number of groups we have data for in the match.\n",
    "* maxPlace - Worst placement we have data for in the match. This may not match with numGroups, as sometimes the data skips over placements.\n",
    "* winPlacePerc - The target of prediction. This is a percentile winning placement, where 1 corresponds to 1st place, and 0 corresponds to last place in the match. It is calculated off of maxPlace, not numGroups, so it is possible to have missing chunks in a match."
   ]
  },
  {
   "cell_type": "markdown",
   "metadata": {},
   "source": [
    "We will begin by importing some of the common data science and machine learning libraries. "
   ]
  },
  {
   "cell_type": "code",
   "execution_count": 1,
   "metadata": {
    "colab": {},
    "colab_type": "code",
    "id": "XvPi_GBkplLW"
   },
   "outputs": [],
   "source": [
    "# To support both python 2 and python 3\n",
    "from __future__ import division, print_function, unicode_literals\n",
    "\n",
    "#common imports \n",
    "import pandas as pd\n",
    "import numpy as np\n",
    "import os\n",
    "#from matplotlib import pyplot as plt\n",
    "import matplotlib.pyplot as plt\n",
    "%matplotlib inline\n",
    "import seaborn as sns\n"
   ]
  },
  {
   "cell_type": "markdown",
   "metadata": {
    "colab_type": "text",
    "id": "gWmltHaXsmH6"
   },
   "source": [
    "We create a dataframe for both train and testing data and show the top 5 rows of the data to get a feel of how the data looks"
   ]
  },
  {
   "cell_type": "code",
   "execution_count": 2,
   "metadata": {
    "colab": {
     "base_uri": "https://localhost:8080/",
     "height": 864
    },
    "colab_type": "code",
    "id": "3dPv8iISsuEZ",
    "outputId": "383f1e0a-802d-421d-ee50-9a9de1f33f27"
   },
   "outputs": [],
   "source": [
    "train = pd.read_csv(\"data/train_V2.csv\")\n",
    "test = pd.read_csv(\"data/test_V2.csv\")"
   ]
  },
  {
   "cell_type": "code",
   "execution_count": 3,
   "metadata": {
    "colab": {
     "base_uri": "https://localhost:8080/",
     "height": 253
    },
    "colab_type": "code",
    "id": "tGPz7uzwwaF3",
    "outputId": "80995011-9291-4c6a-9fbf-86d7c2015f2d"
   },
   "outputs": [
    {
     "data": {
      "text/html": [
       "<div>\n",
       "<style scoped>\n",
       "    .dataframe tbody tr th:only-of-type {\n",
       "        vertical-align: middle;\n",
       "    }\n",
       "\n",
       "    .dataframe tbody tr th {\n",
       "        vertical-align: top;\n",
       "    }\n",
       "\n",
       "    .dataframe thead th {\n",
       "        text-align: right;\n",
       "    }\n",
       "</style>\n",
       "<table border=\"1\" class=\"dataframe\">\n",
       "  <thead>\n",
       "    <tr style=\"text-align: right;\">\n",
       "      <th></th>\n",
       "      <th>Id</th>\n",
       "      <th>groupId</th>\n",
       "      <th>matchId</th>\n",
       "      <th>assists</th>\n",
       "      <th>boosts</th>\n",
       "      <th>damageDealt</th>\n",
       "      <th>DBNOs</th>\n",
       "      <th>headshotKills</th>\n",
       "      <th>heals</th>\n",
       "      <th>killPlace</th>\n",
       "      <th>...</th>\n",
       "      <th>revives</th>\n",
       "      <th>rideDistance</th>\n",
       "      <th>roadKills</th>\n",
       "      <th>swimDistance</th>\n",
       "      <th>teamKills</th>\n",
       "      <th>vehicleDestroys</th>\n",
       "      <th>walkDistance</th>\n",
       "      <th>weaponsAcquired</th>\n",
       "      <th>winPoints</th>\n",
       "      <th>winPlacePerc</th>\n",
       "    </tr>\n",
       "  </thead>\n",
       "  <tbody>\n",
       "    <tr>\n",
       "      <th>0</th>\n",
       "      <td>7f96b2f878858a</td>\n",
       "      <td>4d4b580de459be</td>\n",
       "      <td>a10357fd1a4a91</td>\n",
       "      <td>0</td>\n",
       "      <td>0</td>\n",
       "      <td>0.00</td>\n",
       "      <td>0</td>\n",
       "      <td>0</td>\n",
       "      <td>0</td>\n",
       "      <td>60</td>\n",
       "      <td>...</td>\n",
       "      <td>0</td>\n",
       "      <td>0.0000</td>\n",
       "      <td>0</td>\n",
       "      <td>0.00</td>\n",
       "      <td>0</td>\n",
       "      <td>0</td>\n",
       "      <td>244.80</td>\n",
       "      <td>1</td>\n",
       "      <td>1466</td>\n",
       "      <td>0.4444</td>\n",
       "    </tr>\n",
       "    <tr>\n",
       "      <th>1</th>\n",
       "      <td>eef90569b9d03c</td>\n",
       "      <td>684d5656442f9e</td>\n",
       "      <td>aeb375fc57110c</td>\n",
       "      <td>0</td>\n",
       "      <td>0</td>\n",
       "      <td>91.47</td>\n",
       "      <td>0</td>\n",
       "      <td>0</td>\n",
       "      <td>0</td>\n",
       "      <td>57</td>\n",
       "      <td>...</td>\n",
       "      <td>0</td>\n",
       "      <td>0.0045</td>\n",
       "      <td>0</td>\n",
       "      <td>11.04</td>\n",
       "      <td>0</td>\n",
       "      <td>0</td>\n",
       "      <td>1434.00</td>\n",
       "      <td>5</td>\n",
       "      <td>0</td>\n",
       "      <td>0.6400</td>\n",
       "    </tr>\n",
       "    <tr>\n",
       "      <th>2</th>\n",
       "      <td>1eaf90ac73de72</td>\n",
       "      <td>6a4a42c3245a74</td>\n",
       "      <td>110163d8bb94ae</td>\n",
       "      <td>1</td>\n",
       "      <td>0</td>\n",
       "      <td>68.00</td>\n",
       "      <td>0</td>\n",
       "      <td>0</td>\n",
       "      <td>0</td>\n",
       "      <td>47</td>\n",
       "      <td>...</td>\n",
       "      <td>0</td>\n",
       "      <td>0.0000</td>\n",
       "      <td>0</td>\n",
       "      <td>0.00</td>\n",
       "      <td>0</td>\n",
       "      <td>0</td>\n",
       "      <td>161.80</td>\n",
       "      <td>2</td>\n",
       "      <td>0</td>\n",
       "      <td>0.7755</td>\n",
       "    </tr>\n",
       "    <tr>\n",
       "      <th>3</th>\n",
       "      <td>4616d365dd2853</td>\n",
       "      <td>a930a9c79cd721</td>\n",
       "      <td>f1f1f4ef412d7e</td>\n",
       "      <td>0</td>\n",
       "      <td>0</td>\n",
       "      <td>32.90</td>\n",
       "      <td>0</td>\n",
       "      <td>0</td>\n",
       "      <td>0</td>\n",
       "      <td>75</td>\n",
       "      <td>...</td>\n",
       "      <td>0</td>\n",
       "      <td>0.0000</td>\n",
       "      <td>0</td>\n",
       "      <td>0.00</td>\n",
       "      <td>0</td>\n",
       "      <td>0</td>\n",
       "      <td>202.70</td>\n",
       "      <td>3</td>\n",
       "      <td>0</td>\n",
       "      <td>0.1667</td>\n",
       "    </tr>\n",
       "    <tr>\n",
       "      <th>4</th>\n",
       "      <td>315c96c26c9aac</td>\n",
       "      <td>de04010b3458dd</td>\n",
       "      <td>6dc8ff871e21e6</td>\n",
       "      <td>0</td>\n",
       "      <td>0</td>\n",
       "      <td>100.00</td>\n",
       "      <td>0</td>\n",
       "      <td>0</td>\n",
       "      <td>0</td>\n",
       "      <td>45</td>\n",
       "      <td>...</td>\n",
       "      <td>0</td>\n",
       "      <td>0.0000</td>\n",
       "      <td>0</td>\n",
       "      <td>0.00</td>\n",
       "      <td>0</td>\n",
       "      <td>0</td>\n",
       "      <td>49.75</td>\n",
       "      <td>2</td>\n",
       "      <td>0</td>\n",
       "      <td>0.1875</td>\n",
       "    </tr>\n",
       "  </tbody>\n",
       "</table>\n",
       "<p>5 rows × 29 columns</p>\n",
       "</div>"
      ],
      "text/plain": [
       "               Id         groupId         matchId  assists  boosts  \\\n",
       "0  7f96b2f878858a  4d4b580de459be  a10357fd1a4a91        0       0   \n",
       "1  eef90569b9d03c  684d5656442f9e  aeb375fc57110c        0       0   \n",
       "2  1eaf90ac73de72  6a4a42c3245a74  110163d8bb94ae        1       0   \n",
       "3  4616d365dd2853  a930a9c79cd721  f1f1f4ef412d7e        0       0   \n",
       "4  315c96c26c9aac  de04010b3458dd  6dc8ff871e21e6        0       0   \n",
       "\n",
       "   damageDealt  DBNOs  headshotKills  heals  killPlace      ...       revives  \\\n",
       "0         0.00      0              0      0         60      ...             0   \n",
       "1        91.47      0              0      0         57      ...             0   \n",
       "2        68.00      0              0      0         47      ...             0   \n",
       "3        32.90      0              0      0         75      ...             0   \n",
       "4       100.00      0              0      0         45      ...             0   \n",
       "\n",
       "   rideDistance  roadKills  swimDistance  teamKills vehicleDestroys  \\\n",
       "0        0.0000          0          0.00          0               0   \n",
       "1        0.0045          0         11.04          0               0   \n",
       "2        0.0000          0          0.00          0               0   \n",
       "3        0.0000          0          0.00          0               0   \n",
       "4        0.0000          0          0.00          0               0   \n",
       "\n",
       "   walkDistance  weaponsAcquired  winPoints  winPlacePerc  \n",
       "0        244.80                1       1466        0.4444  \n",
       "1       1434.00                5          0        0.6400  \n",
       "2        161.80                2          0        0.7755  \n",
       "3        202.70                3          0        0.1667  \n",
       "4         49.75                2          0        0.1875  \n",
       "\n",
       "[5 rows x 29 columns]"
      ]
     },
     "execution_count": 3,
     "metadata": {},
     "output_type": "execute_result"
    }
   ],
   "source": [
    "train.head()"
   ]
  },
  {
   "cell_type": "markdown",
   "metadata": {
    "colab_type": "text",
    "id": "Yd557jYpsrUT"
   },
   "source": [
    "We see the features in the dataframe and their type. We also see how many rows there are. "
   ]
  },
  {
   "cell_type": "code",
   "execution_count": 4,
   "metadata": {
    "colab": {
     "base_uri": "https://localhost:8080/",
     "height": 595
    },
    "colab_type": "code",
    "id": "894QZCCIxu5J",
    "outputId": "6f616291-ba52-4a49-f423-800bc1835412"
   },
   "outputs": [
    {
     "name": "stdout",
     "output_type": "stream",
     "text": [
      "<class 'pandas.core.frame.DataFrame'>\n",
      "RangeIndex: 4446966 entries, 0 to 4446965\n",
      "Data columns (total 29 columns):\n",
      "Id                 object\n",
      "groupId            object\n",
      "matchId            object\n",
      "assists            int64\n",
      "boosts             int64\n",
      "damageDealt        float64\n",
      "DBNOs              int64\n",
      "headshotKills      int64\n",
      "heals              int64\n",
      "killPlace          int64\n",
      "killPoints         int64\n",
      "kills              int64\n",
      "killStreaks        int64\n",
      "longestKill        float64\n",
      "matchDuration      int64\n",
      "matchType          object\n",
      "maxPlace           int64\n",
      "numGroups          int64\n",
      "rankPoints         int64\n",
      "revives            int64\n",
      "rideDistance       float64\n",
      "roadKills          int64\n",
      "swimDistance       float64\n",
      "teamKills          int64\n",
      "vehicleDestroys    int64\n",
      "walkDistance       float64\n",
      "weaponsAcquired    int64\n",
      "winPoints          int64\n",
      "winPlacePerc       float64\n",
      "dtypes: float64(6), int64(19), object(4)\n",
      "memory usage: 983.9+ MB\n"
     ]
    }
   ],
   "source": [
    "train.info()"
   ]
  },
  {
   "cell_type": "markdown",
   "metadata": {},
   "source": [
    "We drop the rows that contain no data and print out the shape of the data frame(rows,colums)"
   ]
  },
  {
   "cell_type": "code",
   "execution_count": 5,
   "metadata": {
    "colab": {
     "base_uri": "https://localhost:8080/",
     "height": 181
    },
    "colab_type": "code",
    "id": "kUgbqlBZyfnX",
    "outputId": "3f8d2f04-8264-4baa-cea7-82f493f98569"
   },
   "outputs": [],
   "source": [
    "train = train.dropna()\n",
    "test = test.dropna()"
   ]
  },
  {
   "cell_type": "code",
   "execution_count": 6,
   "metadata": {},
   "outputs": [
    {
     "data": {
      "text/plain": [
       "(4446965, 29)"
      ]
     },
     "execution_count": 6,
     "metadata": {},
     "output_type": "execute_result"
    }
   ],
   "source": [
    "train.shape"
   ]
  },
  {
   "cell_type": "markdown",
   "metadata": {},
   "source": [
    "> # Data Exploration  <a id=\"2\"></a>"
   ]
  },
  {
   "cell_type": "markdown",
   "metadata": {},
   "source": [
    "Patricks stuff here: detailing what hes doing, the work, and explaining results"
   ]
  },
  {
   "cell_type": "code",
   "execution_count": null,
   "metadata": {},
   "outputs": [],
   "source": []
  },
  {
   "cell_type": "markdown",
   "metadata": {},
   "source": [
    "> # Feature Engineering  <a id=\"3\"></a>"
   ]
  },
  {
   "cell_type": "markdown",
   "metadata": {},
   "source": [
    "We create a new feature giving us how many players were in a game. Although 100 players is the maximum many games begin with less players and this information will be useful in order to normalize several other features. "
   ]
  },
  {
   "cell_type": "code",
   "execution_count": 7,
   "metadata": {
    "colab": {
     "base_uri": "https://localhost:8080/",
     "height": 352,
     "resources": {
      "http://localhost:8080/nbextensions/google.colab/files.js": {
       "data": "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",
       "headers": [
        [
         "content-type",
         "application/javascript"
        ]
       ],
       "ok": true,
       "status": 200,
       "status_text": ""
      }
     }
    },
    "colab_type": "code",
    "id": "TReWV09Pp4e-",
    "outputId": "b0aaba14-f8fd-4e2f-cecc-9b73df794afe"
   },
   "outputs": [
    {
     "data": {
      "image/png": "[encoded data removed]",
      "text/plain": [
       "<Figure size 1800x720 with 1 Axes>"
      ]
     },
     "metadata": {},
     "output_type": "display_data"
    }
   ],
   "source": [
    "#inspired from other noteboos\n",
    "train['playersInGame'] = train.groupby('matchId')['matchId'].transform('count')\n",
    "\n",
    "plt.figure(figsize=(25,10))\n",
    "sns.countplot(train[train['playersInGame']>60]['playersInGame'])\n",
    "plt.title(\"Players in game\", fontsize=20)\n",
    "plt.show()"
   ]
  },
  {
   "cell_type": "markdown",
   "metadata": {},
   "source": [
    "We use our amount of players in a game in order to normalize several features. The features we decided to normalize are: kills, damageDealt, maxPlace, and matcDuration. If there are less players in your games your kills and damaged dealt should be normalized to account for this. With less players theres a less of a chance you get more kills."
   ]
  },
  {
   "cell_type": "code",
   "execution_count": 8,
   "metadata": {},
   "outputs": [
    {
     "data": {
      "text/html": [
       "<div>\n",
       "<style scoped>\n",
       "    .dataframe tbody tr th:only-of-type {\n",
       "        vertical-align: middle;\n",
       "    }\n",
       "\n",
       "    .dataframe tbody tr th {\n",
       "        vertical-align: top;\n",
       "    }\n",
       "\n",
       "    .dataframe thead th {\n",
       "        text-align: right;\n",
       "    }\n",
       "</style>\n",
       "<table border=\"1\" class=\"dataframe\">\n",
       "  <thead>\n",
       "    <tr style=\"text-align: right;\">\n",
       "      <th></th>\n",
       "      <th>playersInGame</th>\n",
       "      <th>kills</th>\n",
       "      <th>killsNorm</th>\n",
       "      <th>damageDealt</th>\n",
       "      <th>damageDealtNorm</th>\n",
       "      <th>maxPlace</th>\n",
       "      <th>maxPlaceNorm</th>\n",
       "      <th>matchDuration</th>\n",
       "      <th>matchDurationNorm</th>\n",
       "    </tr>\n",
       "  </thead>\n",
       "  <tbody>\n",
       "    <tr>\n",
       "      <th>0</th>\n",
       "      <td>96</td>\n",
       "      <td>0</td>\n",
       "      <td>0.00</td>\n",
       "      <td>0.000</td>\n",
       "      <td>0.00000</td>\n",
       "      <td>28</td>\n",
       "      <td>29.12</td>\n",
       "      <td>1306</td>\n",
       "      <td>1358.24</td>\n",
       "    </tr>\n",
       "    <tr>\n",
       "      <th>1</th>\n",
       "      <td>91</td>\n",
       "      <td>0</td>\n",
       "      <td>0.00</td>\n",
       "      <td>91.470</td>\n",
       "      <td>99.70230</td>\n",
       "      <td>26</td>\n",
       "      <td>28.34</td>\n",
       "      <td>1777</td>\n",
       "      <td>1936.93</td>\n",
       "    </tr>\n",
       "    <tr>\n",
       "      <th>2</th>\n",
       "      <td>98</td>\n",
       "      <td>0</td>\n",
       "      <td>0.00</td>\n",
       "      <td>68.000</td>\n",
       "      <td>69.36000</td>\n",
       "      <td>50</td>\n",
       "      <td>51.00</td>\n",
       "      <td>1318</td>\n",
       "      <td>1344.36</td>\n",
       "    </tr>\n",
       "    <tr>\n",
       "      <th>3</th>\n",
       "      <td>91</td>\n",
       "      <td>0</td>\n",
       "      <td>0.00</td>\n",
       "      <td>32.900</td>\n",
       "      <td>35.86100</td>\n",
       "      <td>31</td>\n",
       "      <td>33.79</td>\n",
       "      <td>1436</td>\n",
       "      <td>1565.24</td>\n",
       "    </tr>\n",
       "    <tr>\n",
       "      <th>4</th>\n",
       "      <td>97</td>\n",
       "      <td>1</td>\n",
       "      <td>1.03</td>\n",
       "      <td>100.000</td>\n",
       "      <td>103.00000</td>\n",
       "      <td>97</td>\n",
       "      <td>99.91</td>\n",
       "      <td>1424</td>\n",
       "      <td>1466.72</td>\n",
       "    </tr>\n",
       "    <tr>\n",
       "      <th>5</th>\n",
       "      <td>95</td>\n",
       "      <td>1</td>\n",
       "      <td>1.05</td>\n",
       "      <td>100.000</td>\n",
       "      <td>105.00000</td>\n",
       "      <td>28</td>\n",
       "      <td>29.40</td>\n",
       "      <td>1395</td>\n",
       "      <td>1464.75</td>\n",
       "    </tr>\n",
       "    <tr>\n",
       "      <th>6</th>\n",
       "      <td>97</td>\n",
       "      <td>0</td>\n",
       "      <td>0.00</td>\n",
       "      <td>0.000</td>\n",
       "      <td>0.00000</td>\n",
       "      <td>28</td>\n",
       "      <td>28.84</td>\n",
       "      <td>1316</td>\n",
       "      <td>1355.48</td>\n",
       "    </tr>\n",
       "    <tr>\n",
       "      <th>7</th>\n",
       "      <td>96</td>\n",
       "      <td>0</td>\n",
       "      <td>0.00</td>\n",
       "      <td>8.538</td>\n",
       "      <td>8.87952</td>\n",
       "      <td>96</td>\n",
       "      <td>99.84</td>\n",
       "      <td>1967</td>\n",
       "      <td>2045.68</td>\n",
       "    </tr>\n",
       "    <tr>\n",
       "      <th>8</th>\n",
       "      <td>97</td>\n",
       "      <td>0</td>\n",
       "      <td>0.00</td>\n",
       "      <td>51.600</td>\n",
       "      <td>53.14800</td>\n",
       "      <td>28</td>\n",
       "      <td>28.84</td>\n",
       "      <td>1375</td>\n",
       "      <td>1416.25</td>\n",
       "    </tr>\n",
       "    <tr>\n",
       "      <th>9</th>\n",
       "      <td>97</td>\n",
       "      <td>0</td>\n",
       "      <td>0.00</td>\n",
       "      <td>37.270</td>\n",
       "      <td>38.38810</td>\n",
       "      <td>29</td>\n",
       "      <td>29.87</td>\n",
       "      <td>1930</td>\n",
       "      <td>1987.90</td>\n",
       "    </tr>\n",
       "  </tbody>\n",
       "</table>\n",
       "</div>"
      ],
      "text/plain": [
       "   playersInGame  kills  killsNorm  damageDealt  damageDealtNorm  maxPlace  \\\n",
       "0             96      0       0.00        0.000          0.00000        28   \n",
       "1             91      0       0.00       91.470         99.70230        26   \n",
       "2             98      0       0.00       68.000         69.36000        50   \n",
       "3             91      0       0.00       32.900         35.86100        31   \n",
       "4             97      1       1.03      100.000        103.00000        97   \n",
       "5             95      1       1.05      100.000        105.00000        28   \n",
       "6             97      0       0.00        0.000          0.00000        28   \n",
       "7             96      0       0.00        8.538          8.87952        96   \n",
       "8             97      0       0.00       51.600         53.14800        28   \n",
       "9             97      0       0.00       37.270         38.38810        29   \n",
       "\n",
       "   maxPlaceNorm  matchDuration  matchDurationNorm  \n",
       "0         29.12           1306            1358.24  \n",
       "1         28.34           1777            1936.93  \n",
       "2         51.00           1318            1344.36  \n",
       "3         33.79           1436            1565.24  \n",
       "4         99.91           1424            1466.72  \n",
       "5         29.40           1395            1464.75  \n",
       "6         28.84           1316            1355.48  \n",
       "7         99.84           1967            2045.68  \n",
       "8         28.84           1375            1416.25  \n",
       "9         29.87           1930            1987.90  "
      ]
     },
     "execution_count": 8,
     "metadata": {},
     "output_type": "execute_result"
    }
   ],
   "source": [
    "# we will create normalized feautures for several of the features to normalize based on the players in the game\n",
    "train['killsNorm'] = train['kills']*((100-train['playersInGame'])/100 + 1)\n",
    "train['damageDealtNorm'] = train['damageDealt']*((100-train['playersInGame'])/100 + 1)\n",
    "train['maxPlaceNorm'] = train['maxPlace']*((100-train['playersInGame'])/100 + 1)\n",
    "train['matchDurationNorm'] = train['matchDuration']*((100-train['playersInGame'])/100 + 1)\n",
    "\n",
    "#compare the normalized ones and regular ones\n",
    "to_show = ['playersInGame','kills','killsNorm','damageDealt', 'damageDealtNorm', 'maxPlace', 'maxPlaceNorm', 'matchDuration', 'matchDurationNorm']\n",
    "train[to_show][0:10]"
   ]
  },
  {
   "cell_type": "markdown",
   "metadata": {},
   "source": [
    "We add a new feature totalDistance which takes the rideDistance, walkDistance, and swimDistance in order to get a total distance that the player travelled. "
   ]
  },
  {
   "cell_type": "code",
   "execution_count": 9,
   "metadata": {},
   "outputs": [],
   "source": [
    "# get the total distance by adding all the dinstances together\n",
    "train['totalDistance'] = train['rideDistance'] + train['walkDistance'] + train['swimDistance']"
   ]
  },
  {
   "cell_type": "markdown",
   "metadata": {},
   "source": [
    "## Outliers (cheaters) "
   ]
  },
  {
   "cell_type": "markdown",
   "metadata": {},
   "source": [
    "We now find outliers and cheaters in our data and remove them from the dataset"
   ]
  },
  {
   "cell_type": "markdown",
   "metadata": {},
   "source": [
    "We find the players who got kills without even moving. It is very unlikely that a player hasn't moved in a game and got a kill, these players are most likely cheaters, so we remove them. "
   ]
  },
  {
   "cell_type": "code",
   "execution_count": 10,
   "metadata": {},
   "outputs": [],
   "source": [
    "train['killsWithoutMoving'] = ((train['kills']>0)&(train['totalDistance'] == 0))\n",
    "# remove people who got kills without moving\n",
    "train.drop(train[train['killsWithoutMoving'] == True].index, inplace=True)"
   ]
  },
  {
   "cell_type": "markdown",
   "metadata": {},
   "source": [
    "We remove the players that have more than 40 kills. These players are probably cheaters since according to pubg.me leaderboards, most of these players came from very early releases of the game when it was still in beta. During this time there were more cheaters and PubG hasnt seen these types of of kill numbers since then. "
   ]
  },
  {
   "cell_type": "code",
   "execution_count": 11,
   "metadata": {},
   "outputs": [],
   "source": [
    "train.drop(train[train['kills'] > 40].index, inplace=True)"
   ]
  },
  {
   "cell_type": "markdown",
   "metadata": {},
   "source": [
    "We now calculate the headshot rate of the players kills. Players who didn't get any headshots will be assigned the value 0. It is very suspect if a player has over 9 kills and a headshot rate of 100%"
   ]
  },
  {
   "cell_type": "code",
   "execution_count": 12,
   "metadata": {},
   "outputs": [
    {
     "data": {
      "text/plain": [
       "(24, 37)"
      ]
     },
     "metadata": {},
     "output_type": "display_data"
    },
    {
     "data": {
      "text/html": [
       "<div>\n",
       "<style scoped>\n",
       "    .dataframe tbody tr th:only-of-type {\n",
       "        vertical-align: middle;\n",
       "    }\n",
       "\n",
       "    .dataframe tbody tr th {\n",
       "        vertical-align: top;\n",
       "    }\n",
       "\n",
       "    .dataframe thead th {\n",
       "        text-align: right;\n",
       "    }\n",
       "</style>\n",
       "<table border=\"1\" class=\"dataframe\">\n",
       "  <thead>\n",
       "    <tr style=\"text-align: right;\">\n",
       "      <th></th>\n",
       "      <th>Id</th>\n",
       "      <th>groupId</th>\n",
       "      <th>matchId</th>\n",
       "      <th>assists</th>\n",
       "      <th>boosts</th>\n",
       "      <th>damageDealt</th>\n",
       "      <th>DBNOs</th>\n",
       "      <th>headshotKills</th>\n",
       "      <th>heals</th>\n",
       "      <th>killPlace</th>\n",
       "      <th>...</th>\n",
       "      <th>winPoints</th>\n",
       "      <th>winPlacePerc</th>\n",
       "      <th>playersInGame</th>\n",
       "      <th>killsNorm</th>\n",
       "      <th>damageDealtNorm</th>\n",
       "      <th>maxPlaceNorm</th>\n",
       "      <th>matchDurationNorm</th>\n",
       "      <th>totalDistance</th>\n",
       "      <th>killsWithoutMoving</th>\n",
       "      <th>headshot_rate</th>\n",
       "    </tr>\n",
       "  </thead>\n",
       "  <tbody>\n",
       "    <tr>\n",
       "      <th>281570</th>\n",
       "      <td>ab9d7168570927</td>\n",
       "      <td>add05ebde0214c</td>\n",
       "      <td>e016a873339c7b</td>\n",
       "      <td>2</td>\n",
       "      <td>3</td>\n",
       "      <td>1212.0</td>\n",
       "      <td>8</td>\n",
       "      <td>10</td>\n",
       "      <td>0</td>\n",
       "      <td>1</td>\n",
       "      <td>...</td>\n",
       "      <td>0</td>\n",
       "      <td>0.8462</td>\n",
       "      <td>93</td>\n",
       "      <td>10.70</td>\n",
       "      <td>1296.84</td>\n",
       "      <td>28.89</td>\n",
       "      <td>1522.61</td>\n",
       "      <td>2939.0</td>\n",
       "      <td>False</td>\n",
       "      <td>1.0</td>\n",
       "    </tr>\n",
       "    <tr>\n",
       "      <th>346124</th>\n",
       "      <td>044d18fc42fc75</td>\n",
       "      <td>fc1dbc2df6a887</td>\n",
       "      <td>628107d4c41084</td>\n",
       "      <td>3</td>\n",
       "      <td>5</td>\n",
       "      <td>1620.0</td>\n",
       "      <td>13</td>\n",
       "      <td>11</td>\n",
       "      <td>3</td>\n",
       "      <td>1</td>\n",
       "      <td>...</td>\n",
       "      <td>1560</td>\n",
       "      <td>1.0000</td>\n",
       "      <td>96</td>\n",
       "      <td>11.44</td>\n",
       "      <td>1684.80</td>\n",
       "      <td>28.08</td>\n",
       "      <td>1796.08</td>\n",
       "      <td>8142.0</td>\n",
       "      <td>False</td>\n",
       "      <td>1.0</td>\n",
       "    </tr>\n",
       "    <tr>\n",
       "      <th>871244</th>\n",
       "      <td>e668a25f5488e3</td>\n",
       "      <td>5ba8feabfb2a23</td>\n",
       "      <td>f6e6581e03ba4f</td>\n",
       "      <td>0</td>\n",
       "      <td>4</td>\n",
       "      <td>1365.0</td>\n",
       "      <td>9</td>\n",
       "      <td>13</td>\n",
       "      <td>0</td>\n",
       "      <td>1</td>\n",
       "      <td>...</td>\n",
       "      <td>1587</td>\n",
       "      <td>1.0000</td>\n",
       "      <td>98</td>\n",
       "      <td>13.26</td>\n",
       "      <td>1392.30</td>\n",
       "      <td>27.54</td>\n",
       "      <td>1280.10</td>\n",
       "      <td>2105.0</td>\n",
       "      <td>False</td>\n",
       "      <td>1.0</td>\n",
       "    </tr>\n",
       "    <tr>\n",
       "      <th>908815</th>\n",
       "      <td>566d8218b705aa</td>\n",
       "      <td>a9b056478d71b2</td>\n",
       "      <td>3a41552d553583</td>\n",
       "      <td>2</td>\n",
       "      <td>5</td>\n",
       "      <td>1535.0</td>\n",
       "      <td>10</td>\n",
       "      <td>10</td>\n",
       "      <td>3</td>\n",
       "      <td>1</td>\n",
       "      <td>...</td>\n",
       "      <td>1519</td>\n",
       "      <td>0.9630</td>\n",
       "      <td>95</td>\n",
       "      <td>10.50</td>\n",
       "      <td>1611.75</td>\n",
       "      <td>29.40</td>\n",
       "      <td>1929.90</td>\n",
       "      <td>7948.0</td>\n",
       "      <td>False</td>\n",
       "      <td>1.0</td>\n",
       "    </tr>\n",
       "    <tr>\n",
       "      <th>963463</th>\n",
       "      <td>1bd6fd288df4f0</td>\n",
       "      <td>90584ffa22fe15</td>\n",
       "      <td>ba2de992ec7bb8</td>\n",
       "      <td>2</td>\n",
       "      <td>6</td>\n",
       "      <td>1355.0</td>\n",
       "      <td>12</td>\n",
       "      <td>10</td>\n",
       "      <td>2</td>\n",
       "      <td>1</td>\n",
       "      <td>...</td>\n",
       "      <td>1562</td>\n",
       "      <td>1.0000</td>\n",
       "      <td>96</td>\n",
       "      <td>10.40</td>\n",
       "      <td>1409.20</td>\n",
       "      <td>28.08</td>\n",
       "      <td>1473.68</td>\n",
       "      <td>3476.0</td>\n",
       "      <td>False</td>\n",
       "      <td>1.0</td>\n",
       "    </tr>\n",
       "    <tr>\n",
       "      <th>1079403</th>\n",
       "      <td>1c245ed99b5f96</td>\n",
       "      <td>e42d09a9b8463a</td>\n",
       "      <td>5cec236bce68eb</td>\n",
       "      <td>0</td>\n",
       "      <td>5</td>\n",
       "      <td>1218.0</td>\n",
       "      <td>8</td>\n",
       "      <td>11</td>\n",
       "      <td>3</td>\n",
       "      <td>1</td>\n",
       "      <td>...</td>\n",
       "      <td>0</td>\n",
       "      <td>1.0000</td>\n",
       "      <td>95</td>\n",
       "      <td>11.55</td>\n",
       "      <td>1278.90</td>\n",
       "      <td>29.40</td>\n",
       "      <td>1912.05</td>\n",
       "      <td>8178.0</td>\n",
       "      <td>False</td>\n",
       "      <td>1.0</td>\n",
       "    </tr>\n",
       "    <tr>\n",
       "      <th>1167959</th>\n",
       "      <td>c4f80d4be5c561</td>\n",
       "      <td>b4a7892189b5dd</td>\n",
       "      <td>c7f7733ebbd447</td>\n",
       "      <td>0</td>\n",
       "      <td>4</td>\n",
       "      <td>1065.0</td>\n",
       "      <td>6</td>\n",
       "      <td>10</td>\n",
       "      <td>1</td>\n",
       "      <td>1</td>\n",
       "      <td>...</td>\n",
       "      <td>1468</td>\n",
       "      <td>1.0000</td>\n",
       "      <td>97</td>\n",
       "      <td>10.30</td>\n",
       "      <td>1096.95</td>\n",
       "      <td>27.81</td>\n",
       "      <td>1283.38</td>\n",
       "      <td>2858.9</td>\n",
       "      <td>False</td>\n",
       "      <td>1.0</td>\n",
       "    </tr>\n",
       "    <tr>\n",
       "      <th>1348164</th>\n",
       "      <td>474a641f0a4bcb</td>\n",
       "      <td>2fdad3ca6fb3c0</td>\n",
       "      <td>114499c82f35d7</td>\n",
       "      <td>1</td>\n",
       "      <td>5</td>\n",
       "      <td>1319.0</td>\n",
       "      <td>11</td>\n",
       "      <td>12</td>\n",
       "      <td>1</td>\n",
       "      <td>1</td>\n",
       "      <td>...</td>\n",
       "      <td>0</td>\n",
       "      <td>1.0000</td>\n",
       "      <td>93</td>\n",
       "      <td>12.84</td>\n",
       "      <td>1411.33</td>\n",
       "      <td>29.96</td>\n",
       "      <td>1851.10</td>\n",
       "      <td>5963.0</td>\n",
       "      <td>False</td>\n",
       "      <td>1.0</td>\n",
       "    </tr>\n",
       "    <tr>\n",
       "      <th>1380385</th>\n",
       "      <td>202ce6a55119c5</td>\n",
       "      <td>2df66861f597b4</td>\n",
       "      <td>496700c29a5d44</td>\n",
       "      <td>1</td>\n",
       "      <td>4</td>\n",
       "      <td>1150.0</td>\n",
       "      <td>4</td>\n",
       "      <td>11</td>\n",
       "      <td>1</td>\n",
       "      <td>1</td>\n",
       "      <td>...</td>\n",
       "      <td>1500</td>\n",
       "      <td>1.0000</td>\n",
       "      <td>88</td>\n",
       "      <td>12.32</td>\n",
       "      <td>1288.00</td>\n",
       "      <td>51.52</td>\n",
       "      <td>1397.76</td>\n",
       "      <td>3108.0</td>\n",
       "      <td>False</td>\n",
       "      <td>1.0</td>\n",
       "    </tr>\n",
       "    <tr>\n",
       "      <th>1483199</th>\n",
       "      <td>9d483f7cbb34d4</td>\n",
       "      <td>db5867bc814191</td>\n",
       "      <td>69495e3c478eb9</td>\n",
       "      <td>0</td>\n",
       "      <td>10</td>\n",
       "      <td>1478.0</td>\n",
       "      <td>8</td>\n",
       "      <td>13</td>\n",
       "      <td>2</td>\n",
       "      <td>1</td>\n",
       "      <td>...</td>\n",
       "      <td>0</td>\n",
       "      <td>1.0000</td>\n",
       "      <td>96</td>\n",
       "      <td>13.52</td>\n",
       "      <td>1537.12</td>\n",
       "      <td>50.96</td>\n",
       "      <td>1434.16</td>\n",
       "      <td>2479.8</td>\n",
       "      <td>False</td>\n",
       "      <td>1.0</td>\n",
       "    </tr>\n",
       "  </tbody>\n",
       "</table>\n",
       "<p>10 rows × 37 columns</p>\n",
       "</div>"
      ],
      "text/plain": [
       "                     Id         groupId         matchId  assists  boosts  \\\n",
       "281570   ab9d7168570927  add05ebde0214c  e016a873339c7b        2       3   \n",
       "346124   044d18fc42fc75  fc1dbc2df6a887  628107d4c41084        3       5   \n",
       "871244   e668a25f5488e3  5ba8feabfb2a23  f6e6581e03ba4f        0       4   \n",
       "908815   566d8218b705aa  a9b056478d71b2  3a41552d553583        2       5   \n",
       "963463   1bd6fd288df4f0  90584ffa22fe15  ba2de992ec7bb8        2       6   \n",
       "1079403  1c245ed99b5f96  e42d09a9b8463a  5cec236bce68eb        0       5   \n",
       "1167959  c4f80d4be5c561  b4a7892189b5dd  c7f7733ebbd447        0       4   \n",
       "1348164  474a641f0a4bcb  2fdad3ca6fb3c0  114499c82f35d7        1       5   \n",
       "1380385  202ce6a55119c5  2df66861f597b4  496700c29a5d44        1       4   \n",
       "1483199  9d483f7cbb34d4  db5867bc814191  69495e3c478eb9        0      10   \n",
       "\n",
       "         damageDealt  DBNOs  headshotKills  heals  killPlace      ...        \\\n",
       "281570        1212.0      8             10      0          1      ...         \n",
       "346124        1620.0     13             11      3          1      ...         \n",
       "871244        1365.0      9             13      0          1      ...         \n",
       "908815        1535.0     10             10      3          1      ...         \n",
       "963463        1355.0     12             10      2          1      ...         \n",
       "1079403       1218.0      8             11      3          1      ...         \n",
       "1167959       1065.0      6             10      1          1      ...         \n",
       "1348164       1319.0     11             12      1          1      ...         \n",
       "1380385       1150.0      4             11      1          1      ...         \n",
       "1483199       1478.0      8             13      2          1      ...         \n",
       "\n",
       "         winPoints  winPlacePerc  playersInGame  killsNorm  damageDealtNorm  \\\n",
       "281570           0        0.8462             93      10.70          1296.84   \n",
       "346124        1560        1.0000             96      11.44          1684.80   \n",
       "871244        1587        1.0000             98      13.26          1392.30   \n",
       "908815        1519        0.9630             95      10.50          1611.75   \n",
       "963463        1562        1.0000             96      10.40          1409.20   \n",
       "1079403          0        1.0000             95      11.55          1278.90   \n",
       "1167959       1468        1.0000             97      10.30          1096.95   \n",
       "1348164          0        1.0000             93      12.84          1411.33   \n",
       "1380385       1500        1.0000             88      12.32          1288.00   \n",
       "1483199          0        1.0000             96      13.52          1537.12   \n",
       "\n",
       "        maxPlaceNorm  matchDurationNorm  totalDistance  killsWithoutMoving  \\\n",
       "281570         28.89            1522.61         2939.0               False   \n",
       "346124         28.08            1796.08         8142.0               False   \n",
       "871244         27.54            1280.10         2105.0               False   \n",
       "908815         29.40            1929.90         7948.0               False   \n",
       "963463         28.08            1473.68         3476.0               False   \n",
       "1079403        29.40            1912.05         8178.0               False   \n",
       "1167959        27.81            1283.38         2858.9               False   \n",
       "1348164        29.96            1851.10         5963.0               False   \n",
       "1380385        51.52            1397.76         3108.0               False   \n",
       "1483199        50.96            1434.16         2479.8               False   \n",
       "\n",
       "         headshot_rate  \n",
       "281570             1.0  \n",
       "346124             1.0  \n",
       "871244             1.0  \n",
       "908815             1.0  \n",
       "963463             1.0  \n",
       "1079403            1.0  \n",
       "1167959            1.0  \n",
       "1348164            1.0  \n",
       "1380385            1.0  \n",
       "1483199            1.0  \n",
       "\n",
       "[10 rows x 37 columns]"
      ]
     },
     "execution_count": 12,
     "metadata": {},
     "output_type": "execute_result"
    }
   ],
   "source": [
    "#people who have 100% headshot with over 9 kills\n",
    "train['headshot_rate'] = train['headshotKills']/train['kills']\n",
    "train['headshot_rate'] = train['headshot_rate'].fillna(0)\n",
    "display(train[(train['headshot_rate'] == 1) & (train['kills'] > 9)].shape)\n",
    "train[(train['headshot_rate'] == 1) & (train['kills'] > 9)].head(10)"
   ]
  },
  {
   "cell_type": "markdown",
   "metadata": {},
   "source": [
    "We display and the distance of players kills. We see most kills tend to be under 200 meters(?). We see a little spike after 1000m which is highly suspect. We remove those players. "
   ]
  },
  {
   "cell_type": "code",
   "execution_count": 13,
   "metadata": {},
   "outputs": [
    {
     "name": "stderr",
     "output_type": "stream",
     "text": [
      "/Users/FLSingerman/anaconda2/envs/python3/lib/python3.6/site-packages/matplotlib/axes/_axes.py:6462: UserWarning: The 'normed' kwarg is deprecated, and has been replaced by the 'density' kwarg.\n",
      "  warnings.warn(\"The 'normed' kwarg is deprecated, and has been \"\n"
     ]
    },
    {
     "data": {
      "image/png": "[encoded data removed]",
      "text/plain": [
       "<Figure size 864x288 with 1 Axes>"
      ]
     },
     "metadata": {},
     "output_type": "display_data"
    }
   ],
   "source": [
    "plt.figure(figsize=(12,4))\n",
    "sns.distplot(train['longestKill'], bins=10)\n",
    "plt.show()"
   ]
  },
  {
   "cell_type": "code",
   "execution_count": 14,
   "metadata": {},
   "outputs": [],
   "source": [
    "# drop the people who have kills from an insane distance. it makes no sense how they would get these kills. prob cheaters. \n",
    "train.drop(train[train['longestKill'] >= 1000].index, inplace=True)"
   ]
  },
  {
   "cell_type": "markdown",
   "metadata": {},
   "source": [
    "We look at the type of matches in pubg. The most common are quad-fpp, duo-fpp, squad, solo-fpp, duo, and solo. fpp means \"first-person\" as the game has both third-person and first-person perspectives. We then have several other game modes that could be private lobbies and games that are different then the main pubg games. We plan on removing those. "
   ]
  },
  {
   "cell_type": "code",
   "execution_count": 15,
   "metadata": {},
   "outputs": [
    {
     "name": "stdout",
     "output_type": "stream",
     "text": [
      "There are 16 different Match types in the dataset.\n",
      "squad-fpp           1756160\n",
      "duo-fpp              996670\n",
      "squad                626522\n",
      "solo-fpp             536612\n",
      "duo                  313588\n",
      "solo                 181921\n",
      "normal-squad-fpp      16211\n",
      "crashfpp               6287\n",
      "normal-duo-fpp         5402\n",
      "flaretpp               2505\n",
      "normal-solo-fpp        1487\n",
      "flarefpp                718\n",
      "normal-squad            453\n",
      "crashtpp                371\n",
      "normal-solo             279\n",
      "normal-duo              192\n",
      "Name: matchType, dtype: int64\n"
     ]
    }
   ],
   "source": [
    "print('There are {} different Match types in the dataset.'.format(train['matchType'].nunique()))\n",
    "print(train['matchType'].value_counts())"
   ]
  },
  {
   "cell_type": "code",
   "execution_count": 16,
   "metadata": {},
   "outputs": [],
   "source": [
    "#df.query('matchType != 0')\n",
    "#train = train[train['matchType'].isin(['squad-fpp duo-fpp squad solo-fpp duo solo'])]\n",
    "# train.drop(train.loc[(train['matchType'] == \"normal-squad-fpp\")].index,inplace=True)\n",
    "# train.drop(train.loc[(train['matchType'] == \"crashfpp\")].index,inplace=True)\n",
    "# train.drop(train.loc[(train['matchType'] == \"normal-duo-fpp\")].index,inplace=True)\n",
    "# train.drop(train.loc[(train['matchType'] == \"flaretpp\")].index,inplace=True)\n",
    "# train.drop(train.loc[(train['matchType'] == \"normal-solo-fpp\")].index,inplace=True)\n",
    "# train.drop(train.loc[(train['matchType'] == \"flarefpp\")].index,inplace=True)\n",
    "# train.drop(train.loc[(train['matchType'] == \"normal-squad\")].index,inplace=True)\n",
    "# train.drop(train.loc[(train['matchType'] == \"crashtpp\")].index,inplace=True)\n",
    "# train.drop(train.loc[(train['matchType'] == \"normal-solo\")].index,inplace=True)\n",
    "# train.drop(train.loc[(train['matchType'] == \"normal-duo\")].index,inplace=True)\n",
    "\n",
    "#                      | (train['matchType'] != \"duo-fpp\" )\n",
    "#                      | (train['matchType'] != \"squad\" )\n",
    "#                      | (train['matchType'] != \"solo-fpp\" )\n",
    "#                      | (train['matchType'] != \"duo\" )\n",
    "#                      | (train['matchType'] != \"solo\")].index,inplace=True)\n",
    "\n",
    "##train = train.drop(train[(train.matchType != \"squad-fpp\") | (train.matchType !=  \"duo-fpp\") ].index)\n",
    "#or \"squad\" or \"solo-fpp\" or \"duo\" or \"solo\" \n",
    "#df = df.drop(df[(df.score < 50) & (df.score > 20)].index\n",
    "#df.drop(df[df.score < 50].index, inplace=True)"
   ]
  },
  {
   "cell_type": "code",
   "execution_count": 17,
   "metadata": {},
   "outputs": [
    {
     "name": "stdout",
     "output_type": "stream",
     "text": [
      "squad-fpp           1756160\n",
      "duo-fpp              996670\n",
      "squad                626522\n",
      "solo-fpp             536612\n",
      "duo                  313588\n",
      "solo                 181921\n",
      "normal-squad-fpp      16211\n",
      "crashfpp               6287\n",
      "normal-duo-fpp         5402\n",
      "flaretpp               2505\n",
      "normal-solo-fpp        1487\n",
      "flarefpp                718\n",
      "normal-squad            453\n",
      "crashtpp                371\n",
      "normal-solo             279\n",
      "normal-duo              192\n",
      "Name: matchType, dtype: int64\n"
     ]
    },
    {
     "data": {
      "text/plain": [
       "(4445378, 37)"
      ]
     },
     "execution_count": 17,
     "metadata": {},
     "output_type": "execute_result"
    }
   ],
   "source": [
    "print(train['matchType'].value_counts())\n",
    "train.shape"
   ]
  },
  {
   "cell_type": "markdown",
   "metadata": {},
   "source": [
    "We turn groupId and matchId into categorical types in order for the ML algorithms to better process the data. "
   ]
  },
  {
   "cell_type": "code",
   "execution_count": 18,
   "metadata": {},
   "outputs": [
    {
     "data": {
      "text/html": [
       "<div>\n",
       "<style scoped>\n",
       "    .dataframe tbody tr th:only-of-type {\n",
       "        vertical-align: middle;\n",
       "    }\n",
       "\n",
       "    .dataframe tbody tr th {\n",
       "        vertical-align: top;\n",
       "    }\n",
       "\n",
       "    .dataframe thead th {\n",
       "        text-align: right;\n",
       "    }\n",
       "</style>\n",
       "<table border=\"1\" class=\"dataframe\">\n",
       "  <thead>\n",
       "    <tr style=\"text-align: right;\">\n",
       "      <th></th>\n",
       "      <th>groupId_cat</th>\n",
       "      <th>matchId_cat</th>\n",
       "    </tr>\n",
       "  </thead>\n",
       "  <tbody>\n",
       "    <tr>\n",
       "      <th>0</th>\n",
       "      <td>613685</td>\n",
       "      <td>30085</td>\n",
       "    </tr>\n",
       "    <tr>\n",
       "      <th>1</th>\n",
       "      <td>827703</td>\n",
       "      <td>32751</td>\n",
       "    </tr>\n",
       "    <tr>\n",
       "      <th>2</th>\n",
       "      <td>843396</td>\n",
       "      <td>3143</td>\n",
       "    </tr>\n",
       "    <tr>\n",
       "      <th>3</th>\n",
       "      <td>1340261</td>\n",
       "      <td>45260</td>\n",
       "    </tr>\n",
       "    <tr>\n",
       "      <th>4</th>\n",
       "      <td>1757597</td>\n",
       "      <td>20531</td>\n",
       "    </tr>\n",
       "  </tbody>\n",
       "</table>\n",
       "</div>"
      ],
      "text/plain": [
       "   groupId_cat  matchId_cat\n",
       "0       613685        30085\n",
       "1       827703        32751\n",
       "2       843396         3143\n",
       "3      1340261        45260\n",
       "4      1757597        20531"
      ]
     },
     "execution_count": 18,
     "metadata": {},
     "output_type": "execute_result"
    }
   ],
   "source": [
    "train['groupId'] = train['groupId'].astype('category')\n",
    "train['matchId'] = train['matchId'].astype('category')\n",
    "train['groupId_cat'] = train['groupId'].cat.codes\n",
    "train['matchId_cat'] = train['matchId'].cat.codes\n",
    "\n",
    "train.drop(columns=['groupId', 'matchId'], inplace=True)\n",
    "\n",
    "train[['groupId_cat', 'matchId_cat']].head()"
   ]
  },
  {
   "cell_type": "code",
   "execution_count": 19,
   "metadata": {},
   "outputs": [],
   "source": [
    "train.drop(['Id','matchType'], axis=1, inplace=True)\n",
    "#would want to go back and re add matchtype and mayve only look at 1 match type"
   ]
  },
  {
   "cell_type": "code",
   "execution_count": null,
   "metadata": {},
   "outputs": [],
   "source": []
  },
  {
   "cell_type": "code",
   "execution_count": null,
   "metadata": {},
   "outputs": [],
   "source": []
  },
  {
   "cell_type": "code",
   "execution_count": null,
   "metadata": {},
   "outputs": [],
   "source": []
  },
  {
   "cell_type": "markdown",
   "metadata": {},
   "source": [
    "We take a look at our cleaned and prepared data set. "
   ]
  },
  {
   "cell_type": "code",
   "execution_count": 20,
   "metadata": {},
   "outputs": [
    {
     "data": {
      "text/html": [
       "<div>\n",
       "<style scoped>\n",
       "    .dataframe tbody tr th:only-of-type {\n",
       "        vertical-align: middle;\n",
       "    }\n",
       "\n",
       "    .dataframe tbody tr th {\n",
       "        vertical-align: top;\n",
       "    }\n",
       "\n",
       "    .dataframe thead th {\n",
       "        text-align: right;\n",
       "    }\n",
       "</style>\n",
       "<table border=\"1\" class=\"dataframe\">\n",
       "  <thead>\n",
       "    <tr style=\"text-align: right;\">\n",
       "      <th></th>\n",
       "      <th>assists</th>\n",
       "      <th>boosts</th>\n",
       "      <th>damageDealt</th>\n",
       "      <th>DBNOs</th>\n",
       "      <th>headshotKills</th>\n",
       "      <th>heals</th>\n",
       "      <th>killPlace</th>\n",
       "      <th>killPoints</th>\n",
       "      <th>kills</th>\n",
       "      <th>killStreaks</th>\n",
       "      <th>...</th>\n",
       "      <th>playersInGame</th>\n",
       "      <th>killsNorm</th>\n",
       "      <th>damageDealtNorm</th>\n",
       "      <th>maxPlaceNorm</th>\n",
       "      <th>matchDurationNorm</th>\n",
       "      <th>totalDistance</th>\n",
       "      <th>killsWithoutMoving</th>\n",
       "      <th>headshot_rate</th>\n",
       "      <th>groupId_cat</th>\n",
       "      <th>matchId_cat</th>\n",
       "    </tr>\n",
       "  </thead>\n",
       "  <tbody>\n",
       "    <tr>\n",
       "      <th>0</th>\n",
       "      <td>0</td>\n",
       "      <td>0</td>\n",
       "      <td>0.00</td>\n",
       "      <td>0</td>\n",
       "      <td>0</td>\n",
       "      <td>0</td>\n",
       "      <td>60</td>\n",
       "      <td>1241</td>\n",
       "      <td>0</td>\n",
       "      <td>0</td>\n",
       "      <td>...</td>\n",
       "      <td>96</td>\n",
       "      <td>0.00</td>\n",
       "      <td>0.0000</td>\n",
       "      <td>29.12</td>\n",
       "      <td>1358.24</td>\n",
       "      <td>244.8000</td>\n",
       "      <td>False</td>\n",
       "      <td>0.0</td>\n",
       "      <td>613685</td>\n",
       "      <td>30085</td>\n",
       "    </tr>\n",
       "    <tr>\n",
       "      <th>1</th>\n",
       "      <td>0</td>\n",
       "      <td>0</td>\n",
       "      <td>91.47</td>\n",
       "      <td>0</td>\n",
       "      <td>0</td>\n",
       "      <td>0</td>\n",
       "      <td>57</td>\n",
       "      <td>0</td>\n",
       "      <td>0</td>\n",
       "      <td>0</td>\n",
       "      <td>...</td>\n",
       "      <td>91</td>\n",
       "      <td>0.00</td>\n",
       "      <td>99.7023</td>\n",
       "      <td>28.34</td>\n",
       "      <td>1936.93</td>\n",
       "      <td>1445.0445</td>\n",
       "      <td>False</td>\n",
       "      <td>0.0</td>\n",
       "      <td>827703</td>\n",
       "      <td>32751</td>\n",
       "    </tr>\n",
       "    <tr>\n",
       "      <th>2</th>\n",
       "      <td>1</td>\n",
       "      <td>0</td>\n",
       "      <td>68.00</td>\n",
       "      <td>0</td>\n",
       "      <td>0</td>\n",
       "      <td>0</td>\n",
       "      <td>47</td>\n",
       "      <td>0</td>\n",
       "      <td>0</td>\n",
       "      <td>0</td>\n",
       "      <td>...</td>\n",
       "      <td>98</td>\n",
       "      <td>0.00</td>\n",
       "      <td>69.3600</td>\n",
       "      <td>51.00</td>\n",
       "      <td>1344.36</td>\n",
       "      <td>161.8000</td>\n",
       "      <td>False</td>\n",
       "      <td>0.0</td>\n",
       "      <td>843396</td>\n",
       "      <td>3143</td>\n",
       "    </tr>\n",
       "    <tr>\n",
       "      <th>3</th>\n",
       "      <td>0</td>\n",
       "      <td>0</td>\n",
       "      <td>32.90</td>\n",
       "      <td>0</td>\n",
       "      <td>0</td>\n",
       "      <td>0</td>\n",
       "      <td>75</td>\n",
       "      <td>0</td>\n",
       "      <td>0</td>\n",
       "      <td>0</td>\n",
       "      <td>...</td>\n",
       "      <td>91</td>\n",
       "      <td>0.00</td>\n",
       "      <td>35.8610</td>\n",
       "      <td>33.79</td>\n",
       "      <td>1565.24</td>\n",
       "      <td>202.7000</td>\n",
       "      <td>False</td>\n",
       "      <td>0.0</td>\n",
       "      <td>1340261</td>\n",
       "      <td>45260</td>\n",
       "    </tr>\n",
       "    <tr>\n",
       "      <th>4</th>\n",
       "      <td>0</td>\n",
       "      <td>0</td>\n",
       "      <td>100.00</td>\n",
       "      <td>0</td>\n",
       "      <td>0</td>\n",
       "      <td>0</td>\n",
       "      <td>45</td>\n",
       "      <td>0</td>\n",
       "      <td>1</td>\n",
       "      <td>1</td>\n",
       "      <td>...</td>\n",
       "      <td>97</td>\n",
       "      <td>1.03</td>\n",
       "      <td>103.0000</td>\n",
       "      <td>99.91</td>\n",
       "      <td>1466.72</td>\n",
       "      <td>49.7500</td>\n",
       "      <td>False</td>\n",
       "      <td>0.0</td>\n",
       "      <td>1757597</td>\n",
       "      <td>20531</td>\n",
       "    </tr>\n",
       "  </tbody>\n",
       "</table>\n",
       "<p>5 rows × 35 columns</p>\n",
       "</div>"
      ],
      "text/plain": [
       "   assists  boosts  damageDealt  DBNOs  headshotKills  heals  killPlace  \\\n",
       "0        0       0         0.00      0              0      0         60   \n",
       "1        0       0        91.47      0              0      0         57   \n",
       "2        1       0        68.00      0              0      0         47   \n",
       "3        0       0        32.90      0              0      0         75   \n",
       "4        0       0       100.00      0              0      0         45   \n",
       "\n",
       "   killPoints  kills  killStreaks     ...       playersInGame  killsNorm  \\\n",
       "0        1241      0            0     ...                  96       0.00   \n",
       "1           0      0            0     ...                  91       0.00   \n",
       "2           0      0            0     ...                  98       0.00   \n",
       "3           0      0            0     ...                  91       0.00   \n",
       "4           0      1            1     ...                  97       1.03   \n",
       "\n",
       "   damageDealtNorm  maxPlaceNorm  matchDurationNorm  totalDistance  \\\n",
       "0           0.0000         29.12            1358.24       244.8000   \n",
       "1          99.7023         28.34            1936.93      1445.0445   \n",
       "2          69.3600         51.00            1344.36       161.8000   \n",
       "3          35.8610         33.79            1565.24       202.7000   \n",
       "4         103.0000         99.91            1466.72        49.7500   \n",
       "\n",
       "   killsWithoutMoving  headshot_rate  groupId_cat  matchId_cat  \n",
       "0               False            0.0       613685        30085  \n",
       "1               False            0.0       827703        32751  \n",
       "2               False            0.0       843396         3143  \n",
       "3               False            0.0      1340261        45260  \n",
       "4               False            0.0      1757597        20531  \n",
       "\n",
       "[5 rows x 35 columns]"
      ]
     },
     "execution_count": 20,
     "metadata": {},
     "output_type": "execute_result"
    }
   ],
   "source": [
    "train.head()"
   ]
  },
  {
   "cell_type": "code",
   "execution_count": 21,
   "metadata": {},
   "outputs": [
    {
     "name": "stdout",
     "output_type": "stream",
     "text": [
      "<class 'pandas.core.frame.DataFrame'>\n",
      "Int64Index: 4445378 entries, 0 to 4446965\n",
      "Data columns (total 35 columns):\n",
      "assists               int64\n",
      "boosts                int64\n",
      "damageDealt           float64\n",
      "DBNOs                 int64\n",
      "headshotKills         int64\n",
      "heals                 int64\n",
      "killPlace             int64\n",
      "killPoints            int64\n",
      "kills                 int64\n",
      "killStreaks           int64\n",
      "longestKill           float64\n",
      "matchDuration         int64\n",
      "maxPlace              int64\n",
      "numGroups             int64\n",
      "rankPoints            int64\n",
      "revives               int64\n",
      "rideDistance          float64\n",
      "roadKills             int64\n",
      "swimDistance          float64\n",
      "teamKills             int64\n",
      "vehicleDestroys       int64\n",
      "walkDistance          float64\n",
      "weaponsAcquired       int64\n",
      "winPoints             int64\n",
      "winPlacePerc          float64\n",
      "playersInGame         int64\n",
      "killsNorm             float64\n",
      "damageDealtNorm       float64\n",
      "maxPlaceNorm          float64\n",
      "matchDurationNorm     float64\n",
      "totalDistance         float64\n",
      "killsWithoutMoving    bool\n",
      "headshot_rate         float64\n",
      "groupId_cat           int32\n",
      "matchId_cat           int32\n",
      "dtypes: bool(1), float64(12), int32(2), int64(20)\n",
      "memory usage: 1.1 GB\n"
     ]
    }
   ],
   "source": [
    "train.info()"
   ]
  },
  {
   "cell_type": "markdown",
   "metadata": {},
   "source": [
    "> # Machine Learning <a id=\"4\"></a>"
   ]
  },
  {
   "cell_type": "markdown",
   "metadata": {},
   "source": [
    "We will now do some machine learning on our data to predict the winPlacePerc. We will use Keras, Tensorflow and sklearn. "
   ]
  },
  {
   "cell_type": "code",
   "execution_count": 22,
   "metadata": {},
   "outputs": [
    {
     "name": "stdout",
     "output_type": "stream",
     "text": [
      "the size of the traning data is 4445378 x 34 and label size 4445378\n"
     ]
    },
    {
     "data": {
      "text/plain": [
       "0    0.4444\n",
       "1    0.6400\n",
       "2    0.7755\n",
       "3    0.1667\n",
       "4    0.1875\n",
       "5    0.0370\n",
       "6    0.0000\n",
       "7    0.7368\n",
       "8    0.3704\n",
       "9    0.2143\n",
       "Name: winPlacePerc, dtype: float64"
      ]
     },
     "execution_count": 22,
     "metadata": {},
     "output_type": "execute_result"
    }
   ],
   "source": [
    "X = train.copy()\n",
    "y = X['winPlacePerc']\n",
    "X = X.drop(columns = ['winPlacePerc']) \n",
    "#X.shape\n",
    "print(\"the size of the traning data is {0} x {1} and label size {2}\".format(X.shape[0], X.shape[1], y.shape[0]))\n",
    "#print(\"the size of the target is {0} \".format(y.shape))\n",
    "y.head(10)"
   ]
  },
  {
   "cell_type": "markdown",
   "metadata": {},
   "source": [
    "We split our training data (80:20) to have a cross validation set to fine tune our algorithm without looking at the testing data"
   ]
  },
  {
   "cell_type": "code",
   "execution_count": 23,
   "metadata": {
    "colab": {},
    "colab_type": "code",
    "id": "rXMWHXwQ0IdR"
   },
   "outputs": [],
   "source": [
    "from sklearn.model_selection import train_test_split\n",
    "\n",
    "X_train, X_test, y_train, y_test = train_test_split(X, y, test_size = 0.20)"
   ]
  },
  {
   "cell_type": "code",
   "execution_count": 24,
   "metadata": {},
   "outputs": [
    {
     "name": "stdout",
     "output_type": "stream",
     "text": [
      "<class 'pandas.core.frame.DataFrame'>\n",
      "Int64Index: 3556302 entries, 994901 to 639231\n",
      "Data columns (total 34 columns):\n",
      "assists               int64\n",
      "boosts                int64\n",
      "damageDealt           float64\n",
      "DBNOs                 int64\n",
      "headshotKills         int64\n",
      "heals                 int64\n",
      "killPlace             int64\n",
      "killPoints            int64\n",
      "kills                 int64\n",
      "killStreaks           int64\n",
      "longestKill           float64\n",
      "matchDuration         int64\n",
      "maxPlace              int64\n",
      "numGroups             int64\n",
      "rankPoints            int64\n",
      "revives               int64\n",
      "rideDistance          float64\n",
      "roadKills             int64\n",
      "swimDistance          float64\n",
      "teamKills             int64\n",
      "vehicleDestroys       int64\n",
      "walkDistance          float64\n",
      "weaponsAcquired       int64\n",
      "winPoints             int64\n",
      "playersInGame         int64\n",
      "killsNorm             float64\n",
      "damageDealtNorm       float64\n",
      "maxPlaceNorm          float64\n",
      "matchDurationNorm     float64\n",
      "totalDistance         float64\n",
      "killsWithoutMoving    bool\n",
      "headshot_rate         float64\n",
      "groupId_cat           int32\n",
      "matchId_cat           int32\n",
      "dtypes: bool(1), float64(11), int32(2), int64(20)\n",
      "memory usage: 898.8 MB\n"
     ]
    }
   ],
   "source": [
    "X_train.info()"
   ]
  },
  {
   "cell_type": "markdown",
   "metadata": {},
   "source": [
    "We encode our labels so that the data is not continuous which causes problems for the ML algorithms."
   ]
  },
  {
   "cell_type": "code",
   "execution_count": 25,
   "metadata": {},
   "outputs": [],
   "source": [
    "#this either?\n",
    "from sklearn import preprocessing\n",
    "from sklearn import utils\n",
    "\n",
    "lab_enc = preprocessing.LabelEncoder()\n",
    "y_train_encoded = lab_enc.fit_transform(y_train)\n",
    "# X_train_encoded = ohe.transform(X_train)\n",
    "# X_test_encoded = ohe.transform(X_test)"
   ]
  },
  {
   "cell_type": "markdown",
   "metadata": {},
   "source": [
    "We run a basic logistic regression"
   ]
  },
  {
   "cell_type": "code",
   "execution_count": null,
   "metadata": {},
   "outputs": [
    {
     "name": "stderr",
     "output_type": "stream",
     "text": [
      "/Users/FLSingerman/anaconda2/envs/python3/lib/python3.6/site-packages/sklearn/linear_model/logistic.py:432: FutureWarning: Default solver will be changed to 'lbfgs' in 0.22. Specify a solver to silence this warning.\n",
      "  FutureWarning)\n",
      "/Users/FLSingerman/anaconda2/envs/python3/lib/python3.6/site-packages/sklearn/linear_model/logistic.py:459: FutureWarning: Default multi_class will be changed to 'auto' in 0.22. Specify the multi_class option to silence this warning.\n",
      "  \"this warning.\", FutureWarning)\n"
     ]
    }
   ],
   "source": [
    "from sklearn.linear_model import LogisticRegression\n",
    "\n",
    "\n",
    "bin_clf = LogisticRegression().fit(X_train, y_train_encoded)"
   ]
  },
  {
   "cell_type": "code",
   "execution_count": null,
   "metadata": {},
   "outputs": [],
   "source": [
    "from sklearn.model_selection import cross_val_score\n",
    "from sklearn.metric import mean_absolute_error\n",
    "\n",
    "bin_clf_predictions = cross_val_predict(bin_clf, X_train, y_train_encoded, cv=3)\n",
    "print('Classifier scores on training set: ')\n",
    "print('MAE is {0} '.format(mean_absolute_error(y_train, bin_clf_predictions)))\n",
    "\n",
    "#cross_val_score(bin_clf, X_train, y_train_encoded, cv=3, scoring=\"mean_squared_error\")"
   ]
  },
  {
   "cell_type": "markdown",
   "metadata": {},
   "source": [
    "We run the Support Vector Machine algorithm on our data"
   ]
  },
  {
   "cell_type": "code",
   "execution_count": null,
   "metadata": {},
   "outputs": [
    {
     "name": "stderr",
     "output_type": "stream",
     "text": [
      "/Users/FLSingerman/anaconda2/envs/python3/lib/python3.6/site-packages/sklearn/svm/base.py:196: FutureWarning: The default value of gamma will change from 'auto' to 'scale' in version 0.22 to account better for unscaled features. Set gamma explicitly to 'auto' or 'scale' to avoid this warning.\n",
      "  \"avoid this warning.\", FutureWarning)\n"
     ]
    },
    {
     "name": "stdout",
     "output_type": "stream",
     "text": [
      "[LibSVM]"
     ]
    }
   ],
   "source": [
    "from sklearn.svm import SVC \n",
    "\n",
    "svm_model_linear = SVC(kernel = 'rbf', C = 1, verbose=True).fit(X_train, y_train_encoded) \n",
    "svm_predictions = svm_model_linear.predict(X_test) "
   ]
  },
  {
   "cell_type": "code",
   "execution_count": null,
   "metadata": {},
   "outputs": [],
   "source": [
    "from sklearn.model_selection import cross_val_score\n",
    "from sklearn.metric import mean_absolute_error\n",
    "\n",
    "svm_train_predictions = cross_val_predict(svm_model_linear, X_train, y_train_encoded, cv=3)\n",
    "print('Classifier scores on training set: ')\n",
    "print('MAE is {0} '.format(mean_absolute_error(y_train, svm_train_predictions)))\n",
    "\n",
    "cross_val_score(m1, X_train, y_train_encoded, cv=3, scoring=\"mean_squared_error\")"
   ]
  },
  {
   "cell_type": "code",
   "execution_count": null,
   "metadata": {},
   "outputs": [],
   "source": []
  },
  {
   "cell_type": "code",
   "execution_count": null,
   "metadata": {},
   "outputs": [],
   "source": []
  },
  {
   "cell_type": "code",
   "execution_count": 155,
   "metadata": {},
   "outputs": [],
   "source": []
  },
  {
   "cell_type": "code",
   "execution_count": 32,
   "metadata": {},
   "outputs": [
    {
     "name": "stderr",
     "output_type": "stream",
     "text": [
      "[Parallel(n_jobs=-1)]: Using backend ThreadingBackend with 8 concurrent workers.\n",
      "[Parallel(n_jobs=-1)]: Done  40 out of  40 | elapsed:  3.1min finished\n"
     ]
    },
    {
     "ename": "NameError",
     "evalue": "name 'cross_val_predict' is not defined",
     "output_type": "error",
     "traceback": [
      "\u001b[0;31m---------------------------------------------------------------------------\u001b[0m",
      "\u001b[0;31mNameError\u001b[0m                                 Traceback (most recent call last)",
      "\u001b[0;32m<ipython-input-32-13c6ebf500c1>\u001b[0m in \u001b[0;36m<module>\u001b[0;34m()\u001b[0m\n\u001b[1;32m      9\u001b[0m \u001b[0;31m#cross_val_score(m1, X_train, y_train_encoded, cv=3, scoring=\"mean_squared_error\")\u001b[0m\u001b[0;34m\u001b[0m\u001b[0;34m\u001b[0m\u001b[0m\n\u001b[1;32m     10\u001b[0m \u001b[0;34m\u001b[0m\u001b[0m\n\u001b[0;32m---> 11\u001b[0;31m \u001b[0mbin_clf_predictions\u001b[0m \u001b[0;34m=\u001b[0m \u001b[0mcross_val_predict\u001b[0m\u001b[0;34m(\u001b[0m\u001b[0mm1\u001b[0m\u001b[0;34m,\u001b[0m \u001b[0mX_train\u001b[0m\u001b[0;34m,\u001b[0m \u001b[0my_train_encoded\u001b[0m\u001b[0;34m,\u001b[0m \u001b[0mcv\u001b[0m\u001b[0;34m=\u001b[0m\u001b[0;36m3\u001b[0m\u001b[0;34m)\u001b[0m\u001b[0;34m\u001b[0m\u001b[0m\n\u001b[0m\u001b[1;32m     12\u001b[0m \u001b[0;34m\u001b[0m\u001b[0m\n\u001b[1;32m     13\u001b[0m \u001b[0;34m\u001b[0m\u001b[0m\n",
      "\u001b[0;31mNameError\u001b[0m: name 'cross_val_predict' is not defined"
     ]
    }
   ],
   "source": [
    "from sklearn.ensemble import RandomForestRegressor\n",
    "# Metric used for the PUBG competition (Mean Absolute Error (MAE))\n",
    "from sklearn.metrics import mean_absolute_error\n",
    "from sklearn.model_selection import cross_val_score\n",
    "\n",
    "\n",
    "m1 = RandomForestRegressor(n_estimators=40, min_samples_leaf=3, max_features='sqrt',\n",
    "                          n_jobs=-1, verbose=True).fit(X_train, y_train_encoded)\n",
    "#cross_val_score(m1, X_train, y_train_encoded, cv=3, scoring=\"mean_squared_error\")\n"
   ]
  },
  {
   "cell_type": "code",
   "execution_count": 33,
   "metadata": {},
   "outputs": [
    {
     "name": "stderr",
     "output_type": "stream",
     "text": [
      "[Parallel(n_jobs=-1)]: Using backend SequentialBackend with 1 concurrent workers.\n",
      "[Parallel(n_jobs=-1)]: Done  40 out of  40 | elapsed:  7.6min finished\n",
      "[Parallel(n_jobs=1)]: Using backend SequentialBackend with 1 concurrent workers.\n",
      "[Parallel(n_jobs=1)]: Done  40 out of  40 | elapsed:   32.0s finished\n",
      "[Parallel(n_jobs=-1)]: Using backend SequentialBackend with 1 concurrent workers.\n",
      "[Parallel(n_jobs=-1)]: Done  40 out of  40 | elapsed:  7.7min finished\n",
      "[Parallel(n_jobs=1)]: Using backend SequentialBackend with 1 concurrent workers.\n",
      "[Parallel(n_jobs=1)]: Done  40 out of  40 | elapsed:   40.1s finished\n",
      "[Parallel(n_jobs=-1)]: Using backend SequentialBackend with 1 concurrent workers.\n",
      "[Parallel(n_jobs=-1)]: Done  40 out of  40 | elapsed:  8.3min finished\n",
      "[Parallel(n_jobs=1)]: Using backend SequentialBackend with 1 concurrent workers.\n",
      "[Parallel(n_jobs=1)]: Done  40 out of  40 | elapsed:   34.5s finished\n"
     ]
    },
    {
     "name": "stdout",
     "output_type": "stream",
     "text": [
      "Classifier scores on training set: \n",
      "MAE is 1403.7244470251858 \n"
     ]
    }
   ],
   "source": [
    "from sklearn.model_selection import cross_val_score, cross_val_predict\n",
    "\n",
    "bin_clf_predictions = cross_val_predict(m1, X_train, y_train_encoded, cv=3)\n",
    "\n",
    "print('Classifier scores on training set: ')\n",
    "print('MAE is {0} '.format(mean_absolute_error(y_train_encoded, bin_clf_predictions)))\n"
   ]
  },
  {
   "cell_type": "code",
   "execution_count": null,
   "metadata": {},
   "outputs": [],
   "source": []
  },
  {
   "cell_type": "code",
   "execution_count": 156,
   "metadata": {},
   "outputs": [],
   "source": [
    "from sklearn.neural_network import MLPClassifier\n",
    "\n",
    "from keras.models import Sequential\n",
    "from keras.layers import Dense, Dropout, Activation, Flatten\n",
    "from keras.optimizers import SGD\n",
    "\n",
    "model = Sequential()\n",
    "# Dense(64) is a fully-connected layer with 64 hidden units.\n",
    "model.add(Dense(64, activation='relu', input_shape=(34,)))\n",
    "#model.add(Flatten())\n",
    "model.add(Dropout(0.5))\n",
    "model.add(Dense(64, activation='relu'))\n",
    "model.add(Dropout(0.5))\n",
    "# change for the # of classes \n",
    "model.add(Dense(1, activation='sigmoid'))\n",
    "\n",
    "\n",
    "sgd = SGD(lr=0.01, decay=1e-6, momentum=0.9, nesterov=True)\n",
    "model.compile(loss='mse',\n",
    "              optimizer=sgd,\n",
    "              metrics=['mse'])\n",
    "\n"
   ]
  },
  {
   "cell_type": "code",
   "execution_count": 157,
   "metadata": {},
   "outputs": [
    {
     "name": "stdout",
     "output_type": "stream",
     "text": [
      "Epoch 1/10\n",
      " 482752/3556302 [===>..........................] - ETA: 2:59 - loss: 0.5558 - acc: 0.0495"
     ]
    },
    {
     "ename": "KeyboardInterrupt",
     "evalue": "",
     "output_type": "error",
     "traceback": [
      "\u001b[0;31m---------------------------------------------------------------------------\u001b[0m",
      "\u001b[0;31mKeyboardInterrupt\u001b[0m                         Traceback (most recent call last)",
      "\u001b[0;32m<ipython-input-157-ca4650128bdb>\u001b[0m in \u001b[0;36m<module>\u001b[0;34m()\u001b[0m\n\u001b[0;32m----> 1\u001b[0;31m \u001b[0mhistory\u001b[0m \u001b[0;34m=\u001b[0m \u001b[0mmodel\u001b[0m\u001b[0;34m.\u001b[0m\u001b[0mfit\u001b[0m\u001b[0;34m(\u001b[0m\u001b[0mX_train\u001b[0m\u001b[0;34m,\u001b[0m \u001b[0my_train\u001b[0m\u001b[0;34m,\u001b[0m \u001b[0mbatch_size\u001b[0m\u001b[0;34m=\u001b[0m\u001b[0;36m32\u001b[0m\u001b[0;34m,\u001b[0m \u001b[0mepochs\u001b[0m\u001b[0;34m=\u001b[0m\u001b[0;36m10\u001b[0m\u001b[0;34m)\u001b[0m\u001b[0;34m\u001b[0m\u001b[0m\n\u001b[0m",
      "\u001b[0;32m~/anaconda2/envs/python3/lib/python3.6/site-packages/keras/engine/training.py\u001b[0m in \u001b[0;36mfit\u001b[0;34m(self, x, y, batch_size, epochs, verbose, callbacks, validation_split, validation_data, shuffle, class_weight, sample_weight, initial_epoch, steps_per_epoch, validation_steps, **kwargs)\u001b[0m\n\u001b[1;32m   1037\u001b[0m                                         \u001b[0minitial_epoch\u001b[0m\u001b[0;34m=\u001b[0m\u001b[0minitial_epoch\u001b[0m\u001b[0;34m,\u001b[0m\u001b[0;34m\u001b[0m\u001b[0m\n\u001b[1;32m   1038\u001b[0m                                         \u001b[0msteps_per_epoch\u001b[0m\u001b[0;34m=\u001b[0m\u001b[0msteps_per_epoch\u001b[0m\u001b[0;34m,\u001b[0m\u001b[0;34m\u001b[0m\u001b[0m\n\u001b[0;32m-> 1039\u001b[0;31m                                         validation_steps=validation_steps)\n\u001b[0m\u001b[1;32m   1040\u001b[0m \u001b[0;34m\u001b[0m\u001b[0m\n\u001b[1;32m   1041\u001b[0m     def evaluate(self, x=None, y=None,\n",
      "\u001b[0;32m~/anaconda2/envs/python3/lib/python3.6/site-packages/keras/engine/training_arrays.py\u001b[0m in \u001b[0;36mfit_loop\u001b[0;34m(model, f, ins, out_labels, batch_size, epochs, verbose, callbacks, val_f, val_ins, shuffle, callback_metrics, initial_epoch, steps_per_epoch, validation_steps)\u001b[0m\n\u001b[1;32m    183\u001b[0m                         \u001b[0;31m# Do not slice the training phase flag.\u001b[0m\u001b[0;34m\u001b[0m\u001b[0;34m\u001b[0m\u001b[0m\n\u001b[1;32m    184\u001b[0m                         ins_batch = slice_arrays(\n\u001b[0;32m--> 185\u001b[0;31m                             ins[:-1], batch_ids) + [ins[-1]]\n\u001b[0m\u001b[1;32m    186\u001b[0m                     \u001b[0;32melse\u001b[0m\u001b[0;34m:\u001b[0m\u001b[0;34m\u001b[0m\u001b[0m\n\u001b[1;32m    187\u001b[0m                         \u001b[0mins_batch\u001b[0m \u001b[0;34m=\u001b[0m \u001b[0mslice_arrays\u001b[0m\u001b[0;34m(\u001b[0m\u001b[0mins\u001b[0m\u001b[0;34m,\u001b[0m \u001b[0mbatch_ids\u001b[0m\u001b[0;34m)\u001b[0m\u001b[0;34m\u001b[0m\u001b[0m\n",
      "\u001b[0;32m~/anaconda2/envs/python3/lib/python3.6/site-packages/keras/utils/generic_utils.py\u001b[0m in \u001b[0;36mslice_arrays\u001b[0;34m(arrays, start, stop)\u001b[0m\n\u001b[1;32m    524\u001b[0m             \u001b[0;32mif\u001b[0m \u001b[0mhasattr\u001b[0m\u001b[0;34m(\u001b[0m\u001b[0mstart\u001b[0m\u001b[0;34m,\u001b[0m \u001b[0;34m'shape'\u001b[0m\u001b[0;34m)\u001b[0m\u001b[0;34m:\u001b[0m\u001b[0;34m\u001b[0m\u001b[0m\n\u001b[1;32m    525\u001b[0m                 \u001b[0mstart\u001b[0m \u001b[0;34m=\u001b[0m \u001b[0mstart\u001b[0m\u001b[0;34m.\u001b[0m\u001b[0mtolist\u001b[0m\u001b[0;34m(\u001b[0m\u001b[0;34m)\u001b[0m\u001b[0;34m\u001b[0m\u001b[0m\n\u001b[0;32m--> 526\u001b[0;31m             \u001b[0;32mreturn\u001b[0m \u001b[0;34m[\u001b[0m\u001b[0;32mNone\u001b[0m \u001b[0;32mif\u001b[0m \u001b[0mx\u001b[0m \u001b[0;32mis\u001b[0m \u001b[0;32mNone\u001b[0m \u001b[0;32melse\u001b[0m \u001b[0mx\u001b[0m\u001b[0;34m[\u001b[0m\u001b[0mstart\u001b[0m\u001b[0;34m]\u001b[0m \u001b[0;32mfor\u001b[0m \u001b[0mx\u001b[0m \u001b[0;32min\u001b[0m \u001b[0marrays\u001b[0m\u001b[0;34m]\u001b[0m\u001b[0;34m\u001b[0m\u001b[0m\n\u001b[0m\u001b[1;32m    527\u001b[0m         \u001b[0;32melse\u001b[0m\u001b[0;34m:\u001b[0m\u001b[0;34m\u001b[0m\u001b[0m\n\u001b[1;32m    528\u001b[0m             \u001b[0;32mreturn\u001b[0m \u001b[0;34m[\u001b[0m\u001b[0;32mNone\u001b[0m \u001b[0;32mif\u001b[0m \u001b[0mx\u001b[0m \u001b[0;32mis\u001b[0m \u001b[0;32mNone\u001b[0m \u001b[0;32melse\u001b[0m \u001b[0mx\u001b[0m\u001b[0;34m[\u001b[0m\u001b[0mstart\u001b[0m\u001b[0;34m:\u001b[0m\u001b[0mstop\u001b[0m\u001b[0;34m]\u001b[0m \u001b[0;32mfor\u001b[0m \u001b[0mx\u001b[0m \u001b[0;32min\u001b[0m \u001b[0marrays\u001b[0m\u001b[0;34m]\u001b[0m\u001b[0;34m\u001b[0m\u001b[0m\n",
      "\u001b[0;32m~/anaconda2/envs/python3/lib/python3.6/site-packages/keras/utils/generic_utils.py\u001b[0m in \u001b[0;36m<listcomp>\u001b[0;34m(.0)\u001b[0m\n\u001b[1;32m    524\u001b[0m             \u001b[0;32mif\u001b[0m \u001b[0mhasattr\u001b[0m\u001b[0;34m(\u001b[0m\u001b[0mstart\u001b[0m\u001b[0;34m,\u001b[0m \u001b[0;34m'shape'\u001b[0m\u001b[0;34m)\u001b[0m\u001b[0;34m:\u001b[0m\u001b[0;34m\u001b[0m\u001b[0m\n\u001b[1;32m    525\u001b[0m                 \u001b[0mstart\u001b[0m \u001b[0;34m=\u001b[0m \u001b[0mstart\u001b[0m\u001b[0;34m.\u001b[0m\u001b[0mtolist\u001b[0m\u001b[0;34m(\u001b[0m\u001b[0;34m)\u001b[0m\u001b[0;34m\u001b[0m\u001b[0m\n\u001b[0;32m--> 526\u001b[0;31m             \u001b[0;32mreturn\u001b[0m \u001b[0;34m[\u001b[0m\u001b[0;32mNone\u001b[0m \u001b[0;32mif\u001b[0m \u001b[0mx\u001b[0m \u001b[0;32mis\u001b[0m \u001b[0;32mNone\u001b[0m \u001b[0;32melse\u001b[0m \u001b[0mx\u001b[0m\u001b[0;34m[\u001b[0m\u001b[0mstart\u001b[0m\u001b[0;34m]\u001b[0m \u001b[0;32mfor\u001b[0m \u001b[0mx\u001b[0m \u001b[0;32min\u001b[0m \u001b[0marrays\u001b[0m\u001b[0;34m]\u001b[0m\u001b[0;34m\u001b[0m\u001b[0m\n\u001b[0m\u001b[1;32m    527\u001b[0m         \u001b[0;32melse\u001b[0m\u001b[0;34m:\u001b[0m\u001b[0;34m\u001b[0m\u001b[0m\n\u001b[1;32m    528\u001b[0m             \u001b[0;32mreturn\u001b[0m \u001b[0;34m[\u001b[0m\u001b[0;32mNone\u001b[0m \u001b[0;32mif\u001b[0m \u001b[0mx\u001b[0m \u001b[0;32mis\u001b[0m \u001b[0;32mNone\u001b[0m \u001b[0;32melse\u001b[0m \u001b[0mx\u001b[0m\u001b[0;34m[\u001b[0m\u001b[0mstart\u001b[0m\u001b[0;34m:\u001b[0m\u001b[0mstop\u001b[0m\u001b[0;34m]\u001b[0m \u001b[0;32mfor\u001b[0m \u001b[0mx\u001b[0m \u001b[0;32min\u001b[0m \u001b[0marrays\u001b[0m\u001b[0;34m]\u001b[0m\u001b[0;34m\u001b[0m\u001b[0m\n",
      "\u001b[0;31mKeyboardInterrupt\u001b[0m: "
     ]
    }
   ],
   "source": [
    "history = model.fit(X_train, y_train, batch_size=32, epochs=10)"
   ]
  },
  {
   "cell_type": "code",
   "execution_count": 29,
   "metadata": {},
   "outputs": [],
   "source": [
    "from keras.models import Sequential\n",
    "from keras.layers import Dense, Dropout, Activation, Flatten,  BatchNormalization\n",
    "from keras.optimizers import SGD\n",
    "\n",
    "model2 = Sequential()\n",
    "\n",
    "model2.add(Dense(32, kernel_initializer='he_normal',input_shape=(X_train.shape[1]) , activation='selu'))\n",
    "model2.add(Dense(64, kernel_initializer='he_normal', activation='selu'))\n",
    "model2.add(Dense(128, kernel_initializer='he_normal', activation='selu'))\n",
    "model2.add(Dropout(0.1))\n",
    "model2.add(Dense(128, kernel_initializer='he_normal', activation='selu'))\n",
    "model2.add(BatchNormalization())\n",
    "model2.add(Dense(64, kernel_initializer='he_normal', activation='selu'))\n",
    "model2.add(BatchNormalization())\n",
    "model2.add(Dense(32, kernel_initializer='he_normal', activation='selu'))\n",
    "model2.add(Dense(8, kernel_initializer='he_normal', activation='selu'))\n",
    "model2.add(BatchNormalization())\n",
    "model2.add(Dense(1, kernel_initializer='normal', activation='sigmoid'))\n",
    "# Compile model\n",
    "model2.compile(optimizer='adam', loss='mse', metrics=['mae'])\n"
   ]
  },
  {
   "cell_type": "code",
   "execution_count": 30,
   "metadata": {},
   "outputs": [
    {
     "name": "stdout",
     "output_type": "stream",
     "text": [
      "Epoch 1/10\n",
      "3556302/3556302 [==============================] - 558s 157us/step - loss: 0.0208 - mean_absolute_error: 0.1076\n",
      "Epoch 2/10\n",
      "3556302/3556302 [==============================] - 548s 154us/step - loss: 0.0187 - mean_absolute_error: 0.1013\n",
      "Epoch 3/10\n",
      "3556302/3556302 [==============================] - 536s 151us/step - loss: 0.0174 - mean_absolute_error: 0.0974\n",
      "Epoch 4/10\n",
      "3556302/3556302 [==============================] - 518s 146us/step - loss: 0.0164 - mean_absolute_error: 0.0945\n",
      "Epoch 5/10\n",
      "3556302/3556302 [==============================] - 500s 141us/step - loss: 0.0153 - mean_absolute_error: 0.0909\n",
      "Epoch 6/10\n",
      "3556302/3556302 [==============================] - 543s 153us/step - loss: 0.0155 - mean_absolute_error: 0.0917\n",
      "Epoch 7/10\n",
      "3556302/3556302 [==============================] - 544s 153us/step - loss: 0.0143 - mean_absolute_error: 0.0880\n",
      "Epoch 8/10\n",
      "3556302/3556302 [==============================] - 518s 146us/step - loss: 0.0138 - mean_absolute_error: 0.0863\n",
      "Epoch 9/10\n",
      "3556302/3556302 [==============================] - 517s 145us/step - loss: 0.0136 - mean_absolute_error: 0.0856\n",
      "Epoch 10/10\n",
      "3556302/3556302 [==============================] - 547s 154us/step - loss: 0.0131 - mean_absolute_error: 0.0842\n"
     ]
    }
   ],
   "source": [
    "history = model2.fit(X_train, y_train, batch_size=32, validation_data=(X_test, y_test), validation_steps=20, epochs=10)"
   ]
  },
  {
   "cell_type": "code",
   "execution_count": null,
   "metadata": {},
   "outputs": [],
   "source": [
    "history2 = model2.fit(X_train, y_train, steps_per_epoch=32, validation_data=(X_test, y_test), validation_steps=20, epochs=10)"
   ]
  },
  {
   "cell_type": "code",
   "execution_count": null,
   "metadata": {},
   "outputs": [],
   "source": [
    "pred_mod =model2.predict_generator(validation_generator,verbose=1)\n",
    "\n",
    "predicted_class_indices=np.argmax(pred_mod,axis=1)\n",
    "\n",
    "labels = (X_train.class_indices)\n",
    "labels = dict((v,k) for k,v in labels.items())\n",
    "predictions = [labels[k] for k in predicted_class_indices]\n",
    "\n"
   ]
  },
  {
   "cell_type": "code",
   "execution_count": 31,
   "metadata": {},
   "outputs": [
    {
     "name": "stdout",
     "output_type": "stream",
     "text": [
      "dict_keys(['loss', 'mean_absolute_error'])\n"
     ]
    }
   ],
   "source": [
    "print(history.history.keys())"
   ]
  },
  {
   "cell_type": "code",
   "execution_count": 35,
   "metadata": {},
   "outputs": [
    {
     "name": "stdout",
     "output_type": "stream",
     "text": [
      "dict_keys(['loss', 'mean_absolute_error'])\n"
     ]
    },
    {
     "data": {
      "image/png": "[encoded data removed]",
      "text/plain": [
       "<Figure size 432x288 with 1 Axes>"
      ]
     },
     "metadata": {},
     "output_type": "display_data"
    },
    {
     "data": {
      "image/png": "[encoded data removed]",
      "text/plain": [
       "<Figure size 432x288 with 1 Axes>"
      ]
     },
     "metadata": {},
     "output_type": "display_data"
    }
   ],
   "source": [
    "print(history.history.keys())\n",
    "#  \"Accuracy\"\n",
    "plt.plot(history.history['mean_absolute_error'])\n",
    "#plt.plot(history.history['val_mean_absolute_error'])\n",
    "plt.title('model Mean Absolute Error')\n",
    "plt.ylabel('Mean Absolute Error')\n",
    "plt.xlabel('epoch')\n",
    "plt.legend(['train', 'validation'], loc='upper left')\n",
    "plt.show()\n",
    "# \"Loss\"\n",
    "plt.plot(history.history['loss'])\n",
    "#plt.plot(history.history['val_loss'])\n",
    "plt.title('model loss')\n",
    "plt.ylabel('loss')\n",
    "plt.xlabel('epoch')\n",
    "plt.legend(['train', 'validation'], loc='upper left')\n",
    "plt.show()"
   ]
  },
  {
   "cell_type": "markdown",
   "metadata": {},
   "source": [
    "> # Kaggle Submission <a id=\"5\"></a>"
   ]
  },
  {
   "cell_type": "code",
   "execution_count": 78,
   "metadata": {},
   "outputs": [
    {
     "name": "stdout",
     "output_type": "stream",
     "text": [
      "<class 'pandas.core.frame.DataFrame'>\n",
      "Int64Index: 1934174 entries, 0 to 1934173\n",
      "Data columns (total 35 columns):\n",
      "assists               int64\n",
      "boosts                int64\n",
      "damageDealt           float64\n",
      "DBNOs                 int64\n",
      "headshotKills         int64\n",
      "heals                 int64\n",
      "killPlace             int64\n",
      "killPoints            int64\n",
      "kills                 int64\n",
      "killStreaks           int64\n",
      "longestKill           float64\n",
      "matchDuration         int64\n",
      "maxPlace              int64\n",
      "numGroups             int64\n",
      "rankPoints            int64\n",
      "revives               int64\n",
      "rideDistance          float64\n",
      "roadKills             int64\n",
      "swimDistance          float64\n",
      "teamKills             int64\n",
      "vehicleDestroys       int64\n",
      "walkDistance          float64\n",
      "weaponsAcquired       int64\n",
      "winPoints             int64\n",
      "playersInGame         int64\n",
      "killsNorm             float64\n",
      "damageDealtNorm       float64\n",
      "maxPlaceNorm          float64\n",
      "matchDurationNorm     float64\n",
      "headshot_rate         float64\n",
      "totalDistance         float64\n",
      "healsandboosts        int64\n",
      "killsWithoutMoving    bool\n",
      "groupId_cat           int32\n",
      "matchId_cat           int16\n",
      "dtypes: bool(1), float64(11), int16(1), int32(1), int64(21)\n",
      "memory usage: 579.9 MB\n"
     ]
    }
   ],
   "source": [
    "test.info()"
   ]
  },
  {
   "cell_type": "code",
   "execution_count": 79,
   "metadata": {},
   "outputs": [
    {
     "name": "stdout",
     "output_type": "stream",
     "text": [
      "<class 'pandas.core.frame.DataFrame'>\n",
      "Int64Index: 3556302 entries, 830827 to 2849104\n",
      "Data columns (total 34 columns):\n",
      "assists               int64\n",
      "boosts                int64\n",
      "damageDealt           float64\n",
      "DBNOs                 int64\n",
      "headshotKills         int64\n",
      "heals                 int64\n",
      "killPlace             int64\n",
      "killPoints            int64\n",
      "kills                 int64\n",
      "killStreaks           int64\n",
      "longestKill           float64\n",
      "matchDuration         int64\n",
      "maxPlace              int64\n",
      "numGroups             int64\n",
      "rankPoints            int64\n",
      "revives               int64\n",
      "rideDistance          float64\n",
      "roadKills             int64\n",
      "swimDistance          float64\n",
      "teamKills             int64\n",
      "vehicleDestroys       int64\n",
      "walkDistance          float64\n",
      "weaponsAcquired       int64\n",
      "winPoints             int64\n",
      "playersInGame         int64\n",
      "killsNorm             float64\n",
      "damageDealtNorm       float64\n",
      "maxPlaceNorm          float64\n",
      "matchDurationNorm     float64\n",
      "totalDistance         float64\n",
      "killsWithoutMoving    bool\n",
      "headshot_rate         float64\n",
      "groupId_cat           int32\n",
      "matchId_cat           int32\n",
      "dtypes: bool(1), float64(11), int32(2), int64(20)\n",
      "memory usage: 898.8 MB\n"
     ]
    }
   ],
   "source": [
    "X_train.info()"
   ]
  },
  {
   "cell_type": "markdown",
   "metadata": {},
   "source": [
    "We do all the feature engineering we did earlier to the testing data to prepare it for submission"
   ]
  },
  {
   "cell_type": "markdown",
   "metadata": {},
   "source": [
    "We choose our best model from above to use in our submission and make a CSV file in the required format (Id, winPlacePerc (prediction)). "
   ]
  },
  {
   "cell_type": "code",
   "execution_count": 127,
   "metadata": {},
   "outputs": [],
   "source": [
    "\n",
    "test['playersInGame'] = test.groupby('matchId')['matchId'].transform('count')\n",
    "test['killsNorm'] = test['kills']*((100-test['playersInGame'])/100 + 1)\n",
    "test['damageDealtNorm'] = test['damageDealt']*((100-test['playersInGame'])/100 + 1)\n",
    "test['maxPlaceNorm'] = test['maxPlace']*((100-train['playersInGame'])/100 + 1)\n",
    "test['matchDurationNorm'] = test['matchDuration']*((100-test['playersInGame'])/100 + 1)\n",
    "\n",
    "test['headshot_rate'] = test['headshotKills'] / test['kills']\n",
    "test['headshot_rate'] = test['headshot_rate'].fillna(0)\n",
    "test['totalDistance'] = test['rideDistance'] + test['walkDistance'] + test['swimDistance']\n",
    "\n",
    "#test['healsandboosts'] = test['heals'] + test['boosts']\n",
    "test['killsWithoutMoving'] = ((test['kills'] > 0) & (test['totalDistance'] == 0))\n",
    "\n",
    "test['groupId'] = test['groupId'].astype('category')\n",
    "test['matchId'] = test['matchId'].astype('category')\n",
    "test['groupId_cat'] = test['groupId'].cat.codes\n",
    "test['matchId_cat'] = test['matchId'].cat.codes\n",
    "test.drop(columns=['groupId', 'matchId'], inplace=True)\n",
    "test.drop(['matchType'], axis=1, inplace=True)\n",
    "\n",
    "\n",
    "\n"
   ]
  },
  {
   "cell_type": "code",
   "execution_count": 108,
   "metadata": {},
   "outputs": [
    {
     "name": "stdout",
     "output_type": "stream",
     "text": [
      "<class 'pandas.core.frame.DataFrame'>\n",
      "Int64Index: 1934174 entries, 0 to 1934173\n",
      "Data columns (total 34 columns):\n",
      "assists               int64\n",
      "boosts                int64\n",
      "damageDealt           float64\n",
      "DBNOs                 int64\n",
      "headshotKills         int64\n",
      "heals                 int64\n",
      "killPlace             int64\n",
      "killPoints            int64\n",
      "kills                 int64\n",
      "killStreaks           int64\n",
      "longestKill           float64\n",
      "matchDuration         int64\n",
      "maxPlace              int64\n",
      "numGroups             int64\n",
      "rankPoints            int64\n",
      "revives               int64\n",
      "rideDistance          float64\n",
      "roadKills             int64\n",
      "swimDistance          float64\n",
      "teamKills             int64\n",
      "vehicleDestroys       int64\n",
      "walkDistance          float64\n",
      "weaponsAcquired       int64\n",
      "winPoints             int64\n",
      "playersInGame         int64\n",
      "killsNorm             float64\n",
      "damageDealtNorm       float64\n",
      "maxPlaceNorm          float64\n",
      "matchDurationNorm     float64\n",
      "headshot_rate         float64\n",
      "totalDistance         float64\n",
      "killsWithoutMoving    bool\n",
      "groupId_cat           int32\n",
      "matchId_cat           int16\n",
      "dtypes: bool(1), float64(11), int16(1), int32(1), int64(20)\n",
      "memory usage: 565.1 MB\n"
     ]
    }
   ],
   "source": [
    "test.info()"
   ]
  },
  {
   "cell_type": "code",
   "execution_count": 130,
   "metadata": {},
   "outputs": [],
   "source": [
    "Id = pd.DataFrame({'Id' : test['Id']})"
   ]
  },
  {
   "cell_type": "code",
   "execution_count": 131,
   "metadata": {},
   "outputs": [
    {
     "data": {
      "text/html": [
       "<div>\n",
       "<style scoped>\n",
       "    .dataframe tbody tr th:only-of-type {\n",
       "        vertical-align: middle;\n",
       "    }\n",
       "\n",
       "    .dataframe tbody tr th {\n",
       "        vertical-align: top;\n",
       "    }\n",
       "\n",
       "    .dataframe thead th {\n",
       "        text-align: right;\n",
       "    }\n",
       "</style>\n",
       "<table border=\"1\" class=\"dataframe\">\n",
       "  <thead>\n",
       "    <tr style=\"text-align: right;\">\n",
       "      <th></th>\n",
       "      <th>assists</th>\n",
       "      <th>boosts</th>\n",
       "      <th>damageDealt</th>\n",
       "      <th>DBNOs</th>\n",
       "      <th>headshotKills</th>\n",
       "      <th>heals</th>\n",
       "      <th>killPlace</th>\n",
       "      <th>killPoints</th>\n",
       "      <th>kills</th>\n",
       "      <th>killStreaks</th>\n",
       "      <th>...</th>\n",
       "      <th>playersInGame</th>\n",
       "      <th>killsNorm</th>\n",
       "      <th>damageDealtNorm</th>\n",
       "      <th>maxPlaceNorm</th>\n",
       "      <th>matchDurationNorm</th>\n",
       "      <th>headshot_rate</th>\n",
       "      <th>totalDistance</th>\n",
       "      <th>killsWithoutMoving</th>\n",
       "      <th>groupId_cat</th>\n",
       "      <th>matchId_cat</th>\n",
       "    </tr>\n",
       "  </thead>\n",
       "  <tbody>\n",
       "    <tr>\n",
       "      <th>0</th>\n",
       "      <td>0</td>\n",
       "      <td>0</td>\n",
       "      <td>51.46</td>\n",
       "      <td>0</td>\n",
       "      <td>0</td>\n",
       "      <td>0</td>\n",
       "      <td>73</td>\n",
       "      <td>0</td>\n",
       "      <td>0</td>\n",
       "      <td>0</td>\n",
       "      <td>...</td>\n",
       "      <td>92</td>\n",
       "      <td>0.00</td>\n",
       "      <td>55.5768</td>\n",
       "      <td>29.12</td>\n",
       "      <td>2034.72</td>\n",
       "      <td>0.000000</td>\n",
       "      <td>588.0</td>\n",
       "      <td>False</td>\n",
       "      <td>357523</td>\n",
       "      <td>5514</td>\n",
       "    </tr>\n",
       "    <tr>\n",
       "      <th>1</th>\n",
       "      <td>0</td>\n",
       "      <td>4</td>\n",
       "      <td>179.10</td>\n",
       "      <td>0</td>\n",
       "      <td>0</td>\n",
       "      <td>2</td>\n",
       "      <td>11</td>\n",
       "      <td>0</td>\n",
       "      <td>2</td>\n",
       "      <td>1</td>\n",
       "      <td>...</td>\n",
       "      <td>96</td>\n",
       "      <td>2.08</td>\n",
       "      <td>186.2640</td>\n",
       "      <td>52.32</td>\n",
       "      <td>1883.44</td>\n",
       "      <td>0.000000</td>\n",
       "      <td>6686.0</td>\n",
       "      <td>False</td>\n",
       "      <td>231759</td>\n",
       "      <td>5268</td>\n",
       "    </tr>\n",
       "    <tr>\n",
       "      <th>2</th>\n",
       "      <td>1</td>\n",
       "      <td>0</td>\n",
       "      <td>23.40</td>\n",
       "      <td>0</td>\n",
       "      <td>0</td>\n",
       "      <td>4</td>\n",
       "      <td>49</td>\n",
       "      <td>0</td>\n",
       "      <td>0</td>\n",
       "      <td>0</td>\n",
       "      <td>...</td>\n",
       "      <td>94</td>\n",
       "      <td>0.00</td>\n",
       "      <td>24.8040</td>\n",
       "      <td>28.56</td>\n",
       "      <td>1900.58</td>\n",
       "      <td>0.000000</td>\n",
       "      <td>787.8</td>\n",
       "      <td>False</td>\n",
       "      <td>39107</td>\n",
       "      <td>10783</td>\n",
       "    </tr>\n",
       "    <tr>\n",
       "      <th>3</th>\n",
       "      <td>0</td>\n",
       "      <td>0</td>\n",
       "      <td>65.52</td>\n",
       "      <td>0</td>\n",
       "      <td>0</td>\n",
       "      <td>0</td>\n",
       "      <td>54</td>\n",
       "      <td>0</td>\n",
       "      <td>0</td>\n",
       "      <td>0</td>\n",
       "      <td>...</td>\n",
       "      <td>89</td>\n",
       "      <td>0.00</td>\n",
       "      <td>72.7272</td>\n",
       "      <td>49.05</td>\n",
       "      <td>2035.74</td>\n",
       "      <td>0.000000</td>\n",
       "      <td>1812.0</td>\n",
       "      <td>False</td>\n",
       "      <td>634157</td>\n",
       "      <td>2174</td>\n",
       "    </tr>\n",
       "    <tr>\n",
       "      <th>4</th>\n",
       "      <td>0</td>\n",
       "      <td>4</td>\n",
       "      <td>330.20</td>\n",
       "      <td>1</td>\n",
       "      <td>2</td>\n",
       "      <td>1</td>\n",
       "      <td>7</td>\n",
       "      <td>0</td>\n",
       "      <td>3</td>\n",
       "      <td>1</td>\n",
       "      <td>...</td>\n",
       "      <td>95</td>\n",
       "      <td>3.15</td>\n",
       "      <td>346.7100</td>\n",
       "      <td>28.84</td>\n",
       "      <td>1392.30</td>\n",
       "      <td>0.666667</td>\n",
       "      <td>2963.0</td>\n",
       "      <td>False</td>\n",
       "      <td>352749</td>\n",
       "      <td>5106</td>\n",
       "    </tr>\n",
       "  </tbody>\n",
       "</table>\n",
       "<p>5 rows × 34 columns</p>\n",
       "</div>"
      ],
      "text/plain": [
       "   assists  boosts  damageDealt  DBNOs  headshotKills  heals  killPlace  \\\n",
       "0        0       0        51.46      0              0      0         73   \n",
       "1        0       4       179.10      0              0      2         11   \n",
       "2        1       0        23.40      0              0      4         49   \n",
       "3        0       0        65.52      0              0      0         54   \n",
       "4        0       4       330.20      1              2      1          7   \n",
       "\n",
       "   killPoints  kills  killStreaks     ...       playersInGame  killsNorm  \\\n",
       "0           0      0            0     ...                  92       0.00   \n",
       "1           0      2            1     ...                  96       2.08   \n",
       "2           0      0            0     ...                  94       0.00   \n",
       "3           0      0            0     ...                  89       0.00   \n",
       "4           0      3            1     ...                  95       3.15   \n",
       "\n",
       "   damageDealtNorm  maxPlaceNorm  matchDurationNorm  headshot_rate  \\\n",
       "0          55.5768         29.12            2034.72       0.000000   \n",
       "1         186.2640         52.32            1883.44       0.000000   \n",
       "2          24.8040         28.56            1900.58       0.000000   \n",
       "3          72.7272         49.05            2035.74       0.000000   \n",
       "4         346.7100         28.84            1392.30       0.666667   \n",
       "\n",
       "   totalDistance  killsWithoutMoving  groupId_cat  matchId_cat  \n",
       "0          588.0               False       357523         5514  \n",
       "1         6686.0               False       231759         5268  \n",
       "2          787.8               False        39107        10783  \n",
       "3         1812.0               False       634157         2174  \n",
       "4         2963.0               False       352749         5106  \n",
       "\n",
       "[5 rows x 34 columns]"
      ]
     },
     "execution_count": 131,
     "metadata": {},
     "output_type": "execute_result"
    }
   ],
   "source": [
    "#test_pred = test[to_keep].copy()\n",
    "test.drop(['Id'], axis=1, inplace=True)\n",
    "# Fill NaN with 0 (temporary)\n",
    "test.fillna(0, inplace=True)\n",
    "test.head()"
   ]
  },
  {
   "cell_type": "code",
   "execution_count": 133,
   "metadata": {},
   "outputs": [
    {
     "name": "stderr",
     "output_type": "stream",
     "text": [
      "[Parallel(n_jobs=8)]: Using backend ThreadingBackend with 8 concurrent workers.\n",
      "[Parallel(n_jobs=8)]: Done  40 out of  40 | elapsed:    8.3s finished\n"
     ]
    }
   ],
   "source": [
    "predictions = np.clip(a = m1.predict(test), a_min = 0.0, a_max = 1.0)\n",
    "pred_df = pd.DataFrame({'Id' : Id['Id'], 'winPlacePerc' : predictions})\n",
    "\n",
    "# Create submission file\n",
    "pred_df.to_csv(\"submission.csv\", index=False)"
   ]
  },
  {
   "cell_type": "code",
   "execution_count": null,
   "metadata": {},
   "outputs": [],
   "source": []
  }
 ],
 "metadata": {
  "colab": {
   "collapsed_sections": [],
   "name": "pubg.ipynb",
   "provenance": [],
   "version": "0.3.2"
  },
  "kernelspec": {
   "display_name": "Python 3",
   "language": "python",
   "name": "python3"
  },
  "language_info": {
   "codemirror_mode": {
    "name": "ipython",
    "version": 3
   },
   "file_extension": ".py",
   "mimetype": "text/x-python",
   "name": "python",
   "nbconvert_exporter": "python",
   "pygments_lexer": "ipython3",
   "version": "3.6.4"
  }
 },
 "nbformat": 4,
 "nbformat_minor": 1
}
